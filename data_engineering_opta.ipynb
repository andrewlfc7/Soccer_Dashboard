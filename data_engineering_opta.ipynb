{
 "cells": [
  {
   "cell_type": "code",
   "execution_count": 28,
   "outputs": [],
   "source": [
    "import pandas as pd\n",
    "import sqlite3\n",
    "import json\n",
    "from ast import literal_eval\n",
    "from analysis_tool import whoscored_data_engineering\n",
    "from analysis_tool import whoscored_custom_events"
   ],
   "metadata": {
    "collapsed": false
   }
  },
  {
   "cell_type": "code",
   "execution_count": 2,
   "outputs": [],
   "source": [
    "data = open('Data/unprocess data/Liverpool03_15_23.json', encoding='utf-8')\n",
    "data = json.load(data)\n"
   ],
   "metadata": {
    "collapsed": false
   }
  },
  {
   "cell_type": "code",
   "execution_count": 3,
   "outputs": [],
   "source": [
    "event_data = data['matchCentreData']\n"
   ],
   "metadata": {
    "collapsed": false
   }
  },
  {
   "cell_type": "code",
   "execution_count": 5,
   "outputs": [],
   "source": [
    "player_id = event_data['playerIdNameDictionary']\n"
   ],
   "metadata": {
    "collapsed": false
   }
  },
  {
   "cell_type": "code",
   "execution_count": 6,
   "outputs": [],
   "source": [
    "match_id = data['matchId']"
   ],
   "metadata": {
    "collapsed": false
   }
  },
  {
   "cell_type": "code",
   "execution_count": 7,
   "outputs": [],
   "source": [
    "home_data = data['matchCentreData']['home']"
   ],
   "metadata": {
    "collapsed": false
   }
  },
  {
   "cell_type": "code",
   "execution_count": 8,
   "outputs": [],
   "source": [
    "home_team_name =  event_data['home']['name']\n",
    "\n"
   ],
   "metadata": {
    "collapsed": false
   }
  },
  {
   "cell_type": "code",
   "execution_count": 9,
   "outputs": [],
   "source": [
    "away_team_name =  event_data['away']['name']\n"
   ],
   "metadata": {
    "collapsed": false
   }
  },
  {
   "cell_type": "code",
   "execution_count": 10,
   "outputs": [],
   "source": [
    "home_teamID = event_data['home']['teamId']\n"
   ],
   "metadata": {
    "collapsed": false
   }
  },
  {
   "cell_type": "code",
   "execution_count": 11,
   "outputs": [],
   "source": [
    "away_teamID = event_data['away']['teamId']\n"
   ],
   "metadata": {
    "collapsed": false
   }
  },
  {
   "cell_type": "code",
   "execution_count": 12,
   "outputs": [],
   "source": [
    "events = event_data['events']\n"
   ],
   "metadata": {
    "collapsed": false
   }
  },
  {
   "cell_type": "code",
   "execution_count": 13,
   "outputs": [],
   "source": [
    "events = pd.DataFrame(events)\n"
   ],
   "metadata": {
    "collapsed": false
   }
  },
  {
   "cell_type": "code",
   "execution_count": 13,
   "outputs": [],
   "source": [],
   "metadata": {
    "collapsed": false
   }
  },
  {
   "cell_type": "code",
   "execution_count": 14,
   "outputs": [],
   "source": [
    "events['match_id'] = match_id"
   ],
   "metadata": {
    "collapsed": false
   }
  },
  {
   "cell_type": "code",
   "execution_count": 14,
   "outputs": [],
   "source": [],
   "metadata": {
    "collapsed": false
   }
  },
  {
   "cell_type": "code",
   "execution_count": 14,
   "outputs": [],
   "source": [],
   "metadata": {
    "collapsed": false
   }
  },
  {
   "cell_type": "code",
   "execution_count": 15,
   "outputs": [],
   "source": [
    "match_string = home_team_name +  \" \"  + \"-\" + \" \" + away_team_name"
   ],
   "metadata": {
    "collapsed": false
   }
  },
  {
   "cell_type": "code",
   "execution_count": 16,
   "outputs": [],
   "source": [
    "events['match_string'] = match_string"
   ],
   "metadata": {
    "collapsed": false
   }
  },
  {
   "cell_type": "code",
   "execution_count": 18,
   "outputs": [],
   "source": [
    "# Create a dictionary mapping team IDs to team names\n",
    "team_name = {\n",
    "    home_teamID: home_team_name,\n",
    "    away_teamID: away_team_name\n",
    "}\n",
    "events['team_name'] = events['teamId'].map(team_name)\n",
    "\n",
    "\n"
   ],
   "metadata": {
    "collapsed": false
   }
  },
  {
   "cell_type": "code",
   "execution_count": 19,
   "outputs": [],
   "source": [
    "# Create a dictionary mapping team IDs to team names\n",
    "team_dict = {home_teamID: 'Home', away_teamID: 'Away'}\n",
    "\n",
    "# Add a column to the event data to indicate whether the corresponding data is for the home team or away team\n",
    "events['Venue'] = events['teamId'].map(team_dict)\n"
   ],
   "metadata": {
    "collapsed": false
   }
  },
  {
   "cell_type": "code",
   "execution_count": 19,
   "outputs": [],
   "source": [],
   "metadata": {
    "collapsed": false
   }
  },
  {
   "cell_type": "code",
   "execution_count": 20,
   "outputs": [],
   "source": [
    "# Load the event ID json file\n",
    "with open('data/event_id.json') as f:\n",
    "    event_id = {value: key for key, value in json.load(f).items()}\n",
    "\n",
    "# Replace the values in the 'satisfiedEventsTypes' column with the corresponding event type labels\n",
    "events['satisfiedEventsTypes'] = events['satisfiedEventsTypes'].apply(lambda x: [event_id.get(i) for i in x])"
   ],
   "metadata": {
    "collapsed": false
   }
  },
  {
   "cell_type": "code",
   "execution_count": 21,
   "outputs": [],
   "source": [
    "# Extract the outcomeType values using the apply() function and a lambda function\n",
    "events['outcomeType'] = events['outcomeType'].apply(lambda x: x['displayName'])"
   ],
   "metadata": {
    "collapsed": false
   }
  },
  {
   "cell_type": "code",
   "execution_count": 22,
   "outputs": [],
   "source": [
    "events['type'] = events['type'].apply(lambda x: x['displayName'])\n"
   ],
   "metadata": {
    "collapsed": false
   }
  },
  {
   "cell_type": "code",
   "execution_count": 24,
   "outputs": [
    {
     "ename": "TypeError",
     "evalue": "string indices must be integers",
     "output_type": "error",
     "traceback": [
      "\u001B[0;31m---------------------------------------------------------------------------\u001B[0m",
      "\u001B[0;31mTypeError\u001B[0m                                 Traceback (most recent call last)",
      "Cell \u001B[0;32mIn [24], line 1\u001B[0m\n\u001B[0;32m----> 1\u001B[0m events[\u001B[38;5;124m'\u001B[39m\u001B[38;5;124mperiod\u001B[39m\u001B[38;5;124m'\u001B[39m] \u001B[38;5;241m=\u001B[39m \u001B[43mevents\u001B[49m\u001B[43m[\u001B[49m\u001B[38;5;124;43m'\u001B[39;49m\u001B[38;5;124;43mperiod\u001B[39;49m\u001B[38;5;124;43m'\u001B[39;49m\u001B[43m]\u001B[49m\u001B[38;5;241;43m.\u001B[39;49m\u001B[43mapply\u001B[49m\u001B[43m(\u001B[49m\u001B[38;5;28;43;01mlambda\u001B[39;49;00m\u001B[43m \u001B[49m\u001B[43mx\u001B[49m\u001B[43m:\u001B[49m\u001B[43m \u001B[49m\u001B[43mx\u001B[49m\u001B[43m[\u001B[49m\u001B[38;5;124;43m'\u001B[39;49m\u001B[38;5;124;43mdisplayName\u001B[39;49m\u001B[38;5;124;43m'\u001B[39;49m\u001B[43m]\u001B[49m\u001B[43m)\u001B[49m\n",
      "File \u001B[0;32m~/Documents/Coding Projects/lib/python3.9/site-packages/pandas/core/series.py:4771\u001B[0m, in \u001B[0;36mSeries.apply\u001B[0;34m(self, func, convert_dtype, args, **kwargs)\u001B[0m\n\u001B[1;32m   4661\u001B[0m \u001B[38;5;28;01mdef\u001B[39;00m \u001B[38;5;21mapply\u001B[39m(\n\u001B[1;32m   4662\u001B[0m     \u001B[38;5;28mself\u001B[39m,\n\u001B[1;32m   4663\u001B[0m     func: AggFuncType,\n\u001B[0;32m   (...)\u001B[0m\n\u001B[1;32m   4666\u001B[0m     \u001B[38;5;241m*\u001B[39m\u001B[38;5;241m*\u001B[39mkwargs,\n\u001B[1;32m   4667\u001B[0m ) \u001B[38;5;241m-\u001B[39m\u001B[38;5;241m>\u001B[39m DataFrame \u001B[38;5;241m|\u001B[39m Series:\n\u001B[1;32m   4668\u001B[0m     \u001B[38;5;124;03m\"\"\"\u001B[39;00m\n\u001B[1;32m   4669\u001B[0m \u001B[38;5;124;03m    Invoke function on values of Series.\u001B[39;00m\n\u001B[1;32m   4670\u001B[0m \n\u001B[0;32m   (...)\u001B[0m\n\u001B[1;32m   4769\u001B[0m \u001B[38;5;124;03m    dtype: float64\u001B[39;00m\n\u001B[1;32m   4770\u001B[0m \u001B[38;5;124;03m    \"\"\"\u001B[39;00m\n\u001B[0;32m-> 4771\u001B[0m     \u001B[38;5;28;01mreturn\u001B[39;00m \u001B[43mSeriesApply\u001B[49m\u001B[43m(\u001B[49m\u001B[38;5;28;43mself\u001B[39;49m\u001B[43m,\u001B[49m\u001B[43m \u001B[49m\u001B[43mfunc\u001B[49m\u001B[43m,\u001B[49m\u001B[43m \u001B[49m\u001B[43mconvert_dtype\u001B[49m\u001B[43m,\u001B[49m\u001B[43m \u001B[49m\u001B[43margs\u001B[49m\u001B[43m,\u001B[49m\u001B[43m \u001B[49m\u001B[43mkwargs\u001B[49m\u001B[43m)\u001B[49m\u001B[38;5;241;43m.\u001B[39;49m\u001B[43mapply\u001B[49m\u001B[43m(\u001B[49m\u001B[43m)\u001B[49m\n",
      "File \u001B[0;32m~/Documents/Coding Projects/lib/python3.9/site-packages/pandas/core/apply.py:1105\u001B[0m, in \u001B[0;36mSeriesApply.apply\u001B[0;34m(self)\u001B[0m\n\u001B[1;32m   1102\u001B[0m     \u001B[38;5;28;01mreturn\u001B[39;00m \u001B[38;5;28mself\u001B[39m\u001B[38;5;241m.\u001B[39mapply_str()\n\u001B[1;32m   1104\u001B[0m \u001B[38;5;66;03m# self.f is Callable\u001B[39;00m\n\u001B[0;32m-> 1105\u001B[0m \u001B[38;5;28;01mreturn\u001B[39;00m \u001B[38;5;28;43mself\u001B[39;49m\u001B[38;5;241;43m.\u001B[39;49m\u001B[43mapply_standard\u001B[49m\u001B[43m(\u001B[49m\u001B[43m)\u001B[49m\n",
      "File \u001B[0;32m~/Documents/Coding Projects/lib/python3.9/site-packages/pandas/core/apply.py:1156\u001B[0m, in \u001B[0;36mSeriesApply.apply_standard\u001B[0;34m(self)\u001B[0m\n\u001B[1;32m   1154\u001B[0m     \u001B[38;5;28;01melse\u001B[39;00m:\n\u001B[1;32m   1155\u001B[0m         values \u001B[38;5;241m=\u001B[39m obj\u001B[38;5;241m.\u001B[39mastype(\u001B[38;5;28mobject\u001B[39m)\u001B[38;5;241m.\u001B[39m_values\n\u001B[0;32m-> 1156\u001B[0m         mapped \u001B[38;5;241m=\u001B[39m \u001B[43mlib\u001B[49m\u001B[38;5;241;43m.\u001B[39;49m\u001B[43mmap_infer\u001B[49m\u001B[43m(\u001B[49m\n\u001B[1;32m   1157\u001B[0m \u001B[43m            \u001B[49m\u001B[43mvalues\u001B[49m\u001B[43m,\u001B[49m\n\u001B[1;32m   1158\u001B[0m \u001B[43m            \u001B[49m\u001B[43mf\u001B[49m\u001B[43m,\u001B[49m\n\u001B[1;32m   1159\u001B[0m \u001B[43m            \u001B[49m\u001B[43mconvert\u001B[49m\u001B[38;5;241;43m=\u001B[39;49m\u001B[38;5;28;43mself\u001B[39;49m\u001B[38;5;241;43m.\u001B[39;49m\u001B[43mconvert_dtype\u001B[49m\u001B[43m,\u001B[49m\n\u001B[1;32m   1160\u001B[0m \u001B[43m        \u001B[49m\u001B[43m)\u001B[49m\n\u001B[1;32m   1162\u001B[0m \u001B[38;5;28;01mif\u001B[39;00m \u001B[38;5;28mlen\u001B[39m(mapped) \u001B[38;5;129;01mand\u001B[39;00m \u001B[38;5;28misinstance\u001B[39m(mapped[\u001B[38;5;241m0\u001B[39m], ABCSeries):\n\u001B[1;32m   1163\u001B[0m     \u001B[38;5;66;03m# GH#43986 Need to do list(mapped) in order to get treated as nested\u001B[39;00m\n\u001B[1;32m   1164\u001B[0m     \u001B[38;5;66;03m#  See also GH#25959 regarding EA support\u001B[39;00m\n\u001B[1;32m   1165\u001B[0m     \u001B[38;5;28;01mreturn\u001B[39;00m obj\u001B[38;5;241m.\u001B[39m_constructor_expanddim(\u001B[38;5;28mlist\u001B[39m(mapped), index\u001B[38;5;241m=\u001B[39mobj\u001B[38;5;241m.\u001B[39mindex)\n",
      "File \u001B[0;32m~/Documents/Coding Projects/lib/python3.9/site-packages/pandas/_libs/lib.pyx:2918\u001B[0m, in \u001B[0;36mpandas._libs.lib.map_infer\u001B[0;34m()\u001B[0m\n",
      "Cell \u001B[0;32mIn [24], line 1\u001B[0m, in \u001B[0;36m<lambda>\u001B[0;34m(x)\u001B[0m\n\u001B[0;32m----> 1\u001B[0m events[\u001B[38;5;124m'\u001B[39m\u001B[38;5;124mperiod\u001B[39m\u001B[38;5;124m'\u001B[39m] \u001B[38;5;241m=\u001B[39m events[\u001B[38;5;124m'\u001B[39m\u001B[38;5;124mperiod\u001B[39m\u001B[38;5;124m'\u001B[39m]\u001B[38;5;241m.\u001B[39mapply(\u001B[38;5;28;01mlambda\u001B[39;00m x: \u001B[43mx\u001B[49m\u001B[43m[\u001B[49m\u001B[38;5;124;43m'\u001B[39;49m\u001B[38;5;124;43mdisplayName\u001B[39;49m\u001B[38;5;124;43m'\u001B[39;49m\u001B[43m]\u001B[49m)\n",
      "\u001B[0;31mTypeError\u001B[0m: string indices must be integers"
     ]
    }
   ],
   "source": [
    "events['period'] = events['period'].apply(lambda x: x['displayName'])\n"
   ],
   "metadata": {
    "collapsed": false
   }
  },
  {
   "cell_type": "code",
   "execution_count": 25,
   "outputs": [],
   "source": [
    "events['qualifiers'] = events['qualifiers'].apply(lambda x: [{item['type']['displayName']: item.get('value', True)} for item in x])\n"
   ],
   "metadata": {
    "collapsed": false
   }
  },
  {
   "cell_type": "code",
   "execution_count": 25,
   "outputs": [],
   "source": [],
   "metadata": {
    "collapsed": false
   }
  },
  {
   "cell_type": "code",
   "execution_count": 26,
   "outputs": [],
   "source": [
    "events = events.rename(columns={'type': 'event_type'})"
   ],
   "metadata": {
    "collapsed": false
   }
  },
  {
   "cell_type": "code",
   "execution_count": 29,
   "outputs": [],
   "source": [],
   "metadata": {
    "collapsed": false
   }
  },
  {
   "cell_type": "code",
   "execution_count": 27,
   "outputs": [],
   "source": [
    "events['period'] = events['period'].map({'FirstHalf': 1, 'SecondHalf': 2})\n"
   ],
   "metadata": {
    "collapsed": false
   }
  },
  {
   "cell_type": "code",
   "execution_count": 29,
   "outputs": [],
   "source": [
    "events = whoscored_data_engineering.cumulative_match_mins(events)"
   ],
   "metadata": {
    "collapsed": false
   }
  },
  {
   "cell_type": "code",
   "execution_count": 34,
   "outputs": [],
   "source": [],
   "metadata": {
    "collapsed": false
   }
  },
  {
   "cell_type": "code",
   "execution_count": 30,
   "outputs": [],
   "source": [
    "events = whoscored_custom_events.insert_ball_carries(events)"
   ],
   "metadata": {
    "collapsed": false
   }
  },
  {
   "cell_type": "code",
   "execution_count": 31,
   "outputs": [],
   "source": [
    "events = whoscored_custom_events.get_xthreat(events)\n"
   ],
   "metadata": {
    "collapsed": false
   }
  },
  {
   "cell_type": "code",
   "execution_count": 32,
   "outputs": [],
   "source": [
    "for i, row in events.iterrows():\n",
    "    player_id_val = row['playerId']\n",
    "    if not pd.isnull(player_id_val):\n",
    "        player_name = player_id.get(str(int(player_id_val)), 'Unknown')\n",
    "        events.at[i, 'playerName'] = player_name\n",
    "    else:\n",
    "        events.at[i, 'playerName'] = 'Unknown'"
   ],
   "metadata": {
    "collapsed": false
   }
  },
  {
   "cell_type": "code",
   "execution_count": 33,
   "outputs": [
    {
     "data": {
      "text/plain": "      eventId  minute  second  teamId     x     y  expandedMinute  period  \\\n0         2.0     0.0     0.0      26   0.0   0.0             0.0     1.0   \n1         2.0     0.0     0.0      52   0.0   0.0             0.0     1.0   \n2         3.0     0.0     0.0      26  50.0  50.0             0.0     1.0   \n3         3.5     0.0     1.5      26  30.6  41.0             0.0     1.0   \n4         4.0     0.0     3.0      26  34.9  36.0             0.0     1.0   \n...       ...     ...     ...     ...   ...   ...             ...     ...   \n1890  11531.0    51.0     NaN      52  66.8  70.3            54.0     2.0   \n1891    910.0     0.0     0.0      52   0.0   0.0             7.0     NaN   \n1892    836.0     0.0     0.0      26   0.0   0.0             7.0     NaN   \n1893      1.0     0.0     0.0      52   0.0   0.0             0.0     NaN   \n1894      1.0     0.0     0.0      26   0.0   0.0             0.0     NaN   \n\n                                       type   outcomeType  ...    event_type  \\\n0                                       NaN    Successful  ...         Start   \n1                                       NaN    Successful  ...         Start   \n2                                       NaN    Successful  ...          Pass   \n3     {'value': 99, 'displayName': 'Carry'}    Successful  ...         Carry   \n4                                       NaN  Unsuccessful  ...          Pass   \n...                                     ...           ...  ...           ...   \n1890                                    NaN  Unsuccessful  ...  OffsideGiven   \n1891                                    NaN    Successful  ...           End   \n1892                                    NaN    Successful  ...           End   \n1893                                    NaN    Successful  ...  FormationSet   \n1894                                    NaN    Successful  ...  FormationSet   \n\n     cumulative_mins   index            id             match_string  \\\n0              0.000     0.0  2.520481e+09  Real Madrid - Liverpool   \n1              0.000     1.0  2.520481e+09  Real Madrid - Liverpool   \n2              0.000     2.0  2.520481e+09  Real Madrid - Liverpool   \n3              0.025     NaN           NaN                      NaN   \n4              0.050     3.0  2.520481e+09  Real Madrid - Liverpool   \n...              ...     ...           ...                      ...   \n1890             NaN   895.0  2.520521e+09  Real Madrid - Liverpool   \n1891           0.000  1607.0  2.520524e+09  Real Madrid - Liverpool   \n1892           0.000  1608.0  2.520524e+09  Real Madrid - Liverpool   \n1893           0.000  1609.0  2.520457e+09  Real Madrid - Liverpool   \n1894           0.000  1610.0  2.520459e+09  Real Madrid - Liverpool   \n\n        team_name  Venue   xThreat  xThreat_gen       playerName  \n0       Liverpool   Away       NaN          NaN          Unknown  \n1     Real Madrid   Home       NaN          NaN          Unknown  \n2       Liverpool   Away -0.004436     0.000000    Mohamed Salah  \n3             NaN    NaN  0.000757     0.000757  Ibrahima Konaté  \n4       Liverpool   Away       NaN          NaN  Ibrahima Konaté  \n...           ...    ...       ...          ...              ...  \n1890  Real Madrid   Home       NaN          NaN  Vinícius Júnior  \n1891  Real Madrid   Home       NaN          NaN          Unknown  \n1892    Liverpool   Away       NaN          NaN          Unknown  \n1893  Real Madrid   Home       NaN          NaN          Unknown  \n1894    Liverpool   Away       NaN          NaN          Unknown  \n\n[1895 rows x 37 columns]",
      "text/html": "<div>\n<style scoped>\n    .dataframe tbody tr th:only-of-type {\n        vertical-align: middle;\n    }\n\n    .dataframe tbody tr th {\n        vertical-align: top;\n    }\n\n    .dataframe thead th {\n        text-align: right;\n    }\n</style>\n<table border=\"1\" class=\"dataframe\">\n  <thead>\n    <tr style=\"text-align: right;\">\n      <th></th>\n      <th>eventId</th>\n      <th>minute</th>\n      <th>second</th>\n      <th>teamId</th>\n      <th>x</th>\n      <th>y</th>\n      <th>expandedMinute</th>\n      <th>period</th>\n      <th>type</th>\n      <th>outcomeType</th>\n      <th>...</th>\n      <th>event_type</th>\n      <th>cumulative_mins</th>\n      <th>index</th>\n      <th>id</th>\n      <th>match_string</th>\n      <th>team_name</th>\n      <th>Venue</th>\n      <th>xThreat</th>\n      <th>xThreat_gen</th>\n      <th>playerName</th>\n    </tr>\n  </thead>\n  <tbody>\n    <tr>\n      <th>0</th>\n      <td>2.0</td>\n      <td>0.0</td>\n      <td>0.0</td>\n      <td>26</td>\n      <td>0.0</td>\n      <td>0.0</td>\n      <td>0.0</td>\n      <td>1.0</td>\n      <td>NaN</td>\n      <td>Successful</td>\n      <td>...</td>\n      <td>Start</td>\n      <td>0.000</td>\n      <td>0.0</td>\n      <td>2.520481e+09</td>\n      <td>Real Madrid - Liverpool</td>\n      <td>Liverpool</td>\n      <td>Away</td>\n      <td>NaN</td>\n      <td>NaN</td>\n      <td>Unknown</td>\n    </tr>\n    <tr>\n      <th>1</th>\n      <td>2.0</td>\n      <td>0.0</td>\n      <td>0.0</td>\n      <td>52</td>\n      <td>0.0</td>\n      <td>0.0</td>\n      <td>0.0</td>\n      <td>1.0</td>\n      <td>NaN</td>\n      <td>Successful</td>\n      <td>...</td>\n      <td>Start</td>\n      <td>0.000</td>\n      <td>1.0</td>\n      <td>2.520481e+09</td>\n      <td>Real Madrid - Liverpool</td>\n      <td>Real Madrid</td>\n      <td>Home</td>\n      <td>NaN</td>\n      <td>NaN</td>\n      <td>Unknown</td>\n    </tr>\n    <tr>\n      <th>2</th>\n      <td>3.0</td>\n      <td>0.0</td>\n      <td>0.0</td>\n      <td>26</td>\n      <td>50.0</td>\n      <td>50.0</td>\n      <td>0.0</td>\n      <td>1.0</td>\n      <td>NaN</td>\n      <td>Successful</td>\n      <td>...</td>\n      <td>Pass</td>\n      <td>0.000</td>\n      <td>2.0</td>\n      <td>2.520481e+09</td>\n      <td>Real Madrid - Liverpool</td>\n      <td>Liverpool</td>\n      <td>Away</td>\n      <td>-0.004436</td>\n      <td>0.000000</td>\n      <td>Mohamed Salah</td>\n    </tr>\n    <tr>\n      <th>3</th>\n      <td>3.5</td>\n      <td>0.0</td>\n      <td>1.5</td>\n      <td>26</td>\n      <td>30.6</td>\n      <td>41.0</td>\n      <td>0.0</td>\n      <td>1.0</td>\n      <td>{'value': 99, 'displayName': 'Carry'}</td>\n      <td>Successful</td>\n      <td>...</td>\n      <td>Carry</td>\n      <td>0.025</td>\n      <td>NaN</td>\n      <td>NaN</td>\n      <td>NaN</td>\n      <td>NaN</td>\n      <td>NaN</td>\n      <td>0.000757</td>\n      <td>0.000757</td>\n      <td>Ibrahima Konaté</td>\n    </tr>\n    <tr>\n      <th>4</th>\n      <td>4.0</td>\n      <td>0.0</td>\n      <td>3.0</td>\n      <td>26</td>\n      <td>34.9</td>\n      <td>36.0</td>\n      <td>0.0</td>\n      <td>1.0</td>\n      <td>NaN</td>\n      <td>Unsuccessful</td>\n      <td>...</td>\n      <td>Pass</td>\n      <td>0.050</td>\n      <td>3.0</td>\n      <td>2.520481e+09</td>\n      <td>Real Madrid - Liverpool</td>\n      <td>Liverpool</td>\n      <td>Away</td>\n      <td>NaN</td>\n      <td>NaN</td>\n      <td>Ibrahima Konaté</td>\n    </tr>\n    <tr>\n      <th>...</th>\n      <td>...</td>\n      <td>...</td>\n      <td>...</td>\n      <td>...</td>\n      <td>...</td>\n      <td>...</td>\n      <td>...</td>\n      <td>...</td>\n      <td>...</td>\n      <td>...</td>\n      <td>...</td>\n      <td>...</td>\n      <td>...</td>\n      <td>...</td>\n      <td>...</td>\n      <td>...</td>\n      <td>...</td>\n      <td>...</td>\n      <td>...</td>\n      <td>...</td>\n      <td>...</td>\n    </tr>\n    <tr>\n      <th>1890</th>\n      <td>11531.0</td>\n      <td>51.0</td>\n      <td>NaN</td>\n      <td>52</td>\n      <td>66.8</td>\n      <td>70.3</td>\n      <td>54.0</td>\n      <td>2.0</td>\n      <td>NaN</td>\n      <td>Unsuccessful</td>\n      <td>...</td>\n      <td>OffsideGiven</td>\n      <td>NaN</td>\n      <td>895.0</td>\n      <td>2.520521e+09</td>\n      <td>Real Madrid - Liverpool</td>\n      <td>Real Madrid</td>\n      <td>Home</td>\n      <td>NaN</td>\n      <td>NaN</td>\n      <td>Vinícius Júnior</td>\n    </tr>\n    <tr>\n      <th>1891</th>\n      <td>910.0</td>\n      <td>0.0</td>\n      <td>0.0</td>\n      <td>52</td>\n      <td>0.0</td>\n      <td>0.0</td>\n      <td>7.0</td>\n      <td>NaN</td>\n      <td>NaN</td>\n      <td>Successful</td>\n      <td>...</td>\n      <td>End</td>\n      <td>0.000</td>\n      <td>1607.0</td>\n      <td>2.520524e+09</td>\n      <td>Real Madrid - Liverpool</td>\n      <td>Real Madrid</td>\n      <td>Home</td>\n      <td>NaN</td>\n      <td>NaN</td>\n      <td>Unknown</td>\n    </tr>\n    <tr>\n      <th>1892</th>\n      <td>836.0</td>\n      <td>0.0</td>\n      <td>0.0</td>\n      <td>26</td>\n      <td>0.0</td>\n      <td>0.0</td>\n      <td>7.0</td>\n      <td>NaN</td>\n      <td>NaN</td>\n      <td>Successful</td>\n      <td>...</td>\n      <td>End</td>\n      <td>0.000</td>\n      <td>1608.0</td>\n      <td>2.520524e+09</td>\n      <td>Real Madrid - Liverpool</td>\n      <td>Liverpool</td>\n      <td>Away</td>\n      <td>NaN</td>\n      <td>NaN</td>\n      <td>Unknown</td>\n    </tr>\n    <tr>\n      <th>1893</th>\n      <td>1.0</td>\n      <td>0.0</td>\n      <td>0.0</td>\n      <td>52</td>\n      <td>0.0</td>\n      <td>0.0</td>\n      <td>0.0</td>\n      <td>NaN</td>\n      <td>NaN</td>\n      <td>Successful</td>\n      <td>...</td>\n      <td>FormationSet</td>\n      <td>0.000</td>\n      <td>1609.0</td>\n      <td>2.520457e+09</td>\n      <td>Real Madrid - Liverpool</td>\n      <td>Real Madrid</td>\n      <td>Home</td>\n      <td>NaN</td>\n      <td>NaN</td>\n      <td>Unknown</td>\n    </tr>\n    <tr>\n      <th>1894</th>\n      <td>1.0</td>\n      <td>0.0</td>\n      <td>0.0</td>\n      <td>26</td>\n      <td>0.0</td>\n      <td>0.0</td>\n      <td>0.0</td>\n      <td>NaN</td>\n      <td>NaN</td>\n      <td>Successful</td>\n      <td>...</td>\n      <td>FormationSet</td>\n      <td>0.000</td>\n      <td>1610.0</td>\n      <td>2.520459e+09</td>\n      <td>Real Madrid - Liverpool</td>\n      <td>Liverpool</td>\n      <td>Away</td>\n      <td>NaN</td>\n      <td>NaN</td>\n      <td>Unknown</td>\n    </tr>\n  </tbody>\n</table>\n<p>1895 rows × 37 columns</p>\n</div>"
     },
     "execution_count": 33,
     "metadata": {},
     "output_type": "execute_result"
    }
   ],
   "source": [
    "events"
   ],
   "metadata": {
    "collapsed": false
   }
  },
  {
   "cell_type": "code",
   "execution_count": 34,
   "outputs": [],
   "source": [
    "events.to_csv('Data/liverpool03_15_23.csv')"
   ],
   "metadata": {
    "collapsed": false
   }
  },
  {
   "cell_type": "code",
   "execution_count": null,
   "outputs": [],
   "source": [],
   "metadata": {
    "collapsed": false
   }
  }
 ],
 "metadata": {
  "kernelspec": {
   "display_name": "Python 3",
   "language": "python",
   "name": "python3"
  },
  "language_info": {
   "codemirror_mode": {
    "name": "ipython",
    "version": 2
   },
   "file_extension": ".py",
   "mimetype": "text/x-python",
   "name": "python",
   "nbconvert_exporter": "python",
   "pygments_lexer": "ipython2",
   "version": "2.7.6"
  }
 },
 "nbformat": 4,
 "nbformat_minor": 0
}
