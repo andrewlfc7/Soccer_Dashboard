{
 "cells": [
  {
   "cell_type": "code",
   "execution_count": null,
   "outputs": [],
   "source": [],
   "metadata": {
    "collapsed": false
   }
  },
  {
   "cell_type": "code",
   "execution_count": 16,
   "outputs": [],
   "source": [
    "import pandas as pd\n",
    "import json\n",
    "from ast import literal_eval\n",
    "import numpy as np"
   ],
   "metadata": {
    "collapsed": false
   }
  },
  {
   "cell_type": "code",
   "execution_count": 35,
   "outputs": [],
   "source": [
    "data = open('Data/unprocess data/Liverpool03_15_23.json', encoding='utf-8')\n",
    "data = json.load(data)\n"
   ],
   "metadata": {
    "collapsed": false
   }
  },
  {
   "cell_type": "code",
   "execution_count": 38,
   "outputs": [
    {
     "ename": "ValueError",
     "evalue": "All arrays must be of the same length",
     "output_type": "error",
     "traceback": [
      "\u001B[0;31m---------------------------------------------------------------------------\u001B[0m",
      "\u001B[0;31mValueError\u001B[0m                                Traceback (most recent call last)",
      "Cell \u001B[0;32mIn [38], line 2\u001B[0m\n\u001B[1;32m      1\u001B[0m event_data \u001B[38;5;241m=\u001B[39m data[\u001B[38;5;124m'\u001B[39m\u001B[38;5;124mmatchCentreData\u001B[39m\u001B[38;5;124m'\u001B[39m]\n\u001B[0;32m----> 2\u001B[0m \u001B[43mpd\u001B[49m\u001B[38;5;241;43m.\u001B[39;49m\u001B[43mDataFrame\u001B[49m\u001B[43m(\u001B[49m\u001B[43mevent_data\u001B[49m\u001B[43m)\u001B[49m\n",
      "File \u001B[0;32m~/Documents/Coding Projects/lib/python3.9/site-packages/pandas/core/frame.py:662\u001B[0m, in \u001B[0;36mDataFrame.__init__\u001B[0;34m(self, data, index, columns, dtype, copy)\u001B[0m\n\u001B[1;32m    656\u001B[0m     mgr \u001B[38;5;241m=\u001B[39m \u001B[38;5;28mself\u001B[39m\u001B[38;5;241m.\u001B[39m_init_mgr(\n\u001B[1;32m    657\u001B[0m         data, axes\u001B[38;5;241m=\u001B[39m{\u001B[38;5;124m\"\u001B[39m\u001B[38;5;124mindex\u001B[39m\u001B[38;5;124m\"\u001B[39m: index, \u001B[38;5;124m\"\u001B[39m\u001B[38;5;124mcolumns\u001B[39m\u001B[38;5;124m\"\u001B[39m: columns}, dtype\u001B[38;5;241m=\u001B[39mdtype, copy\u001B[38;5;241m=\u001B[39mcopy\n\u001B[1;32m    658\u001B[0m     )\n\u001B[1;32m    660\u001B[0m \u001B[38;5;28;01melif\u001B[39;00m \u001B[38;5;28misinstance\u001B[39m(data, \u001B[38;5;28mdict\u001B[39m):\n\u001B[1;32m    661\u001B[0m     \u001B[38;5;66;03m# GH#38939 de facto copy defaults to False only in non-dict cases\u001B[39;00m\n\u001B[0;32m--> 662\u001B[0m     mgr \u001B[38;5;241m=\u001B[39m \u001B[43mdict_to_mgr\u001B[49m\u001B[43m(\u001B[49m\u001B[43mdata\u001B[49m\u001B[43m,\u001B[49m\u001B[43m \u001B[49m\u001B[43mindex\u001B[49m\u001B[43m,\u001B[49m\u001B[43m \u001B[49m\u001B[43mcolumns\u001B[49m\u001B[43m,\u001B[49m\u001B[43m \u001B[49m\u001B[43mdtype\u001B[49m\u001B[38;5;241;43m=\u001B[39;49m\u001B[43mdtype\u001B[49m\u001B[43m,\u001B[49m\u001B[43m \u001B[49m\u001B[43mcopy\u001B[49m\u001B[38;5;241;43m=\u001B[39;49m\u001B[43mcopy\u001B[49m\u001B[43m,\u001B[49m\u001B[43m \u001B[49m\u001B[43mtyp\u001B[49m\u001B[38;5;241;43m=\u001B[39;49m\u001B[43mmanager\u001B[49m\u001B[43m)\u001B[49m\n\u001B[1;32m    663\u001B[0m \u001B[38;5;28;01melif\u001B[39;00m \u001B[38;5;28misinstance\u001B[39m(data, ma\u001B[38;5;241m.\u001B[39mMaskedArray):\n\u001B[1;32m    664\u001B[0m     \u001B[38;5;28;01mimport\u001B[39;00m \u001B[38;5;21;01mnumpy\u001B[39;00m\u001B[38;5;21;01m.\u001B[39;00m\u001B[38;5;21;01mma\u001B[39;00m\u001B[38;5;21;01m.\u001B[39;00m\u001B[38;5;21;01mmrecords\u001B[39;00m \u001B[38;5;28;01mas\u001B[39;00m \u001B[38;5;21;01mmrecords\u001B[39;00m\n",
      "File \u001B[0;32m~/Documents/Coding Projects/lib/python3.9/site-packages/pandas/core/internals/construction.py:493\u001B[0m, in \u001B[0;36mdict_to_mgr\u001B[0;34m(data, index, columns, dtype, typ, copy)\u001B[0m\n\u001B[1;32m    489\u001B[0m     \u001B[38;5;28;01melse\u001B[39;00m:\n\u001B[1;32m    490\u001B[0m         \u001B[38;5;66;03m# dtype check to exclude e.g. range objects, scalars\u001B[39;00m\n\u001B[1;32m    491\u001B[0m         arrays \u001B[38;5;241m=\u001B[39m [x\u001B[38;5;241m.\u001B[39mcopy() \u001B[38;5;28;01mif\u001B[39;00m \u001B[38;5;28mhasattr\u001B[39m(x, \u001B[38;5;124m\"\u001B[39m\u001B[38;5;124mdtype\u001B[39m\u001B[38;5;124m\"\u001B[39m) \u001B[38;5;28;01melse\u001B[39;00m x \u001B[38;5;28;01mfor\u001B[39;00m x \u001B[38;5;129;01min\u001B[39;00m arrays]\n\u001B[0;32m--> 493\u001B[0m \u001B[38;5;28;01mreturn\u001B[39;00m \u001B[43marrays_to_mgr\u001B[49m\u001B[43m(\u001B[49m\u001B[43marrays\u001B[49m\u001B[43m,\u001B[49m\u001B[43m \u001B[49m\u001B[43mcolumns\u001B[49m\u001B[43m,\u001B[49m\u001B[43m \u001B[49m\u001B[43mindex\u001B[49m\u001B[43m,\u001B[49m\u001B[43m \u001B[49m\u001B[43mdtype\u001B[49m\u001B[38;5;241;43m=\u001B[39;49m\u001B[43mdtype\u001B[49m\u001B[43m,\u001B[49m\u001B[43m \u001B[49m\u001B[43mtyp\u001B[49m\u001B[38;5;241;43m=\u001B[39;49m\u001B[43mtyp\u001B[49m\u001B[43m,\u001B[49m\u001B[43m \u001B[49m\u001B[43mconsolidate\u001B[49m\u001B[38;5;241;43m=\u001B[39;49m\u001B[43mcopy\u001B[49m\u001B[43m)\u001B[49m\n",
      "File \u001B[0;32m~/Documents/Coding Projects/lib/python3.9/site-packages/pandas/core/internals/construction.py:118\u001B[0m, in \u001B[0;36marrays_to_mgr\u001B[0;34m(arrays, columns, index, dtype, verify_integrity, typ, consolidate)\u001B[0m\n\u001B[1;32m    115\u001B[0m \u001B[38;5;28;01mif\u001B[39;00m verify_integrity:\n\u001B[1;32m    116\u001B[0m     \u001B[38;5;66;03m# figure out the index, if necessary\u001B[39;00m\n\u001B[1;32m    117\u001B[0m     \u001B[38;5;28;01mif\u001B[39;00m index \u001B[38;5;129;01mis\u001B[39;00m \u001B[38;5;28;01mNone\u001B[39;00m:\n\u001B[0;32m--> 118\u001B[0m         index \u001B[38;5;241m=\u001B[39m \u001B[43m_extract_index\u001B[49m\u001B[43m(\u001B[49m\u001B[43marrays\u001B[49m\u001B[43m)\u001B[49m\n\u001B[1;32m    119\u001B[0m     \u001B[38;5;28;01melse\u001B[39;00m:\n\u001B[1;32m    120\u001B[0m         index \u001B[38;5;241m=\u001B[39m ensure_index(index)\n",
      "File \u001B[0;32m~/Documents/Coding Projects/lib/python3.9/site-packages/pandas/core/internals/construction.py:666\u001B[0m, in \u001B[0;36m_extract_index\u001B[0;34m(data)\u001B[0m\n\u001B[1;32m    664\u001B[0m lengths \u001B[38;5;241m=\u001B[39m \u001B[38;5;28mlist\u001B[39m(\u001B[38;5;28mset\u001B[39m(raw_lengths))\n\u001B[1;32m    665\u001B[0m \u001B[38;5;28;01mif\u001B[39;00m \u001B[38;5;28mlen\u001B[39m(lengths) \u001B[38;5;241m>\u001B[39m \u001B[38;5;241m1\u001B[39m:\n\u001B[0;32m--> 666\u001B[0m     \u001B[38;5;28;01mraise\u001B[39;00m \u001B[38;5;167;01mValueError\u001B[39;00m(\u001B[38;5;124m\"\u001B[39m\u001B[38;5;124mAll arrays must be of the same length\u001B[39m\u001B[38;5;124m\"\u001B[39m)\n\u001B[1;32m    668\u001B[0m \u001B[38;5;28;01mif\u001B[39;00m have_dicts:\n\u001B[1;32m    669\u001B[0m     \u001B[38;5;28;01mraise\u001B[39;00m \u001B[38;5;167;01mValueError\u001B[39;00m(\n\u001B[1;32m    670\u001B[0m         \u001B[38;5;124m\"\u001B[39m\u001B[38;5;124mMixing dicts with non-Series may lead to ambiguous ordering.\u001B[39m\u001B[38;5;124m\"\u001B[39m\n\u001B[1;32m    671\u001B[0m     )\n",
      "\u001B[0;31mValueError\u001B[0m: All arrays must be of the same length"
     ]
    }
   ],
   "source": [
    "event_data = data['matchCentreData']"
   ],
   "metadata": {
    "collapsed": false
   }
  },
  {
   "cell_type": "code",
   "execution_count": 12,
   "outputs": [],
   "source": [
    "player_id = event_data['playerIdNameDictionary']\n"
   ],
   "metadata": {
    "collapsed": false
   }
  },
  {
   "cell_type": "code",
   "execution_count": 13,
   "outputs": [
    {
     "data": {
      "text/plain": "2"
     },
     "execution_count": 13,
     "metadata": {},
     "output_type": "execute_result"
    }
   ],
   "source": [
    "len(data)"
   ],
   "metadata": {
    "collapsed": false
   }
  },
  {
   "cell_type": "code",
   "execution_count": 26,
   "outputs": [],
   "source": [
    "match_data = pd.DataFrame(data)"
   ],
   "metadata": {
    "collapsed": false
   }
  },
  {
   "cell_type": "code",
   "execution_count": 27,
   "outputs": [
    {
     "data": {
      "text/plain": "pandas.core.frame.DataFrame"
     },
     "execution_count": 27,
     "metadata": {},
     "output_type": "execute_result"
    }
   ],
   "source": [
    "type(match_data)"
   ],
   "metadata": {
    "collapsed": false
   }
  },
  {
   "cell_type": "code",
   "execution_count": 30,
   "outputs": [
    {
     "data": {
      "text/plain": "                        matchId  \\\nattendance              1694372   \naway                    1694372   \ncommonEvents            1694372   \nelapsed                 1694372   \netScore                 1694372   \nevents                  1694372   \nexpandedMaxMinute       1694372   \nexpandedMinutes         1694372   \nftScore                 1694372   \nhome                    1694372   \nhtScore                 1694372   \nmaxMinute               1694372   \nmaxPeriod               1694372   \nminuteExpanded          1694372   \nperiodCode              1694372   \nperiodEndMinutes        1694372   \nperiodMinuteLimits      1694372   \npkScore                 1694372   \nplayerIdNameDictionary  1694372   \nreferee                 1694372   \nscore                   1694372   \nstartDate               1694372   \nstartTime               1694372   \nstatusCode              1694372   \ntimeStamp               1694372   \ntimeoutInSeconds        1694372   \nvenueName               1694372   \nweatherCode             1694372   \n\n                                                          matchCentreData  \nattendance                                                          63127  \naway                    {'teamId': 26, 'formations': [{'formationId': ...  \ncommonEvents                                                           []  \nelapsed                                                                 F  \netScore                                                                    \nevents                  [{'id': 2520480527.0, 'eventId': 2, 'minute': ...  \nexpandedMaxMinute                                                      97  \nexpandedMinutes         {'1': {'0': 0, '1': 1, '2': 2, '3': 3, '4': 4,...  \nftScore                                                             1 : 0  \nhome                    {'teamId': 52, 'formations': [{'formationId': ...  \nhtScore                                                             0 : 0  \nmaxMinute                                                              94  \nmaxPeriod                                                               2  \nminuteExpanded                                                         97  \nperiodCode                                                              7  \nperiodEndMinutes                                       {'1': 47, '2': 94}  \nperiodMinuteLimits                 {'1': 45, '2': 90, '3': 105, '4': 120}  \npkScore                                                                    \nplayerIdNameDictionary  {'73798': 'Thibaut Courtois', '33404': 'Eden H...  \nreferee                 {'officialId': 1128, 'firstName': 'Felix', 'la...  \nscore                                                               1 : 0  \nstartDate                                             2023-03-15T00:00:00  \nstartTime                                             2023-03-15T21:00:00  \nstatusCode                                                              6  \ntimeStamp                                             2023-03-16 09:33:34  \ntimeoutInSeconds                                                        0  \nvenueName                                               Santiago Bernabéu  \nweatherCode                                                                ",
      "text/html": "<div>\n<style scoped>\n    .dataframe tbody tr th:only-of-type {\n        vertical-align: middle;\n    }\n\n    .dataframe tbody tr th {\n        vertical-align: top;\n    }\n\n    .dataframe thead th {\n        text-align: right;\n    }\n</style>\n<table border=\"1\" class=\"dataframe\">\n  <thead>\n    <tr style=\"text-align: right;\">\n      <th></th>\n      <th>matchId</th>\n      <th>matchCentreData</th>\n    </tr>\n  </thead>\n  <tbody>\n    <tr>\n      <th>attendance</th>\n      <td>1694372</td>\n      <td>63127</td>\n    </tr>\n    <tr>\n      <th>away</th>\n      <td>1694372</td>\n      <td>{'teamId': 26, 'formations': [{'formationId': ...</td>\n    </tr>\n    <tr>\n      <th>commonEvents</th>\n      <td>1694372</td>\n      <td>[]</td>\n    </tr>\n    <tr>\n      <th>elapsed</th>\n      <td>1694372</td>\n      <td>F</td>\n    </tr>\n    <tr>\n      <th>etScore</th>\n      <td>1694372</td>\n      <td></td>\n    </tr>\n    <tr>\n      <th>events</th>\n      <td>1694372</td>\n      <td>[{'id': 2520480527.0, 'eventId': 2, 'minute': ...</td>\n    </tr>\n    <tr>\n      <th>expandedMaxMinute</th>\n      <td>1694372</td>\n      <td>97</td>\n    </tr>\n    <tr>\n      <th>expandedMinutes</th>\n      <td>1694372</td>\n      <td>{'1': {'0': 0, '1': 1, '2': 2, '3': 3, '4': 4,...</td>\n    </tr>\n    <tr>\n      <th>ftScore</th>\n      <td>1694372</td>\n      <td>1 : 0</td>\n    </tr>\n    <tr>\n      <th>home</th>\n      <td>1694372</td>\n      <td>{'teamId': 52, 'formations': [{'formationId': ...</td>\n    </tr>\n    <tr>\n      <th>htScore</th>\n      <td>1694372</td>\n      <td>0 : 0</td>\n    </tr>\n    <tr>\n      <th>maxMinute</th>\n      <td>1694372</td>\n      <td>94</td>\n    </tr>\n    <tr>\n      <th>maxPeriod</th>\n      <td>1694372</td>\n      <td>2</td>\n    </tr>\n    <tr>\n      <th>minuteExpanded</th>\n      <td>1694372</td>\n      <td>97</td>\n    </tr>\n    <tr>\n      <th>periodCode</th>\n      <td>1694372</td>\n      <td>7</td>\n    </tr>\n    <tr>\n      <th>periodEndMinutes</th>\n      <td>1694372</td>\n      <td>{'1': 47, '2': 94}</td>\n    </tr>\n    <tr>\n      <th>periodMinuteLimits</th>\n      <td>1694372</td>\n      <td>{'1': 45, '2': 90, '3': 105, '4': 120}</td>\n    </tr>\n    <tr>\n      <th>pkScore</th>\n      <td>1694372</td>\n      <td></td>\n    </tr>\n    <tr>\n      <th>playerIdNameDictionary</th>\n      <td>1694372</td>\n      <td>{'73798': 'Thibaut Courtois', '33404': 'Eden H...</td>\n    </tr>\n    <tr>\n      <th>referee</th>\n      <td>1694372</td>\n      <td>{'officialId': 1128, 'firstName': 'Felix', 'la...</td>\n    </tr>\n    <tr>\n      <th>score</th>\n      <td>1694372</td>\n      <td>1 : 0</td>\n    </tr>\n    <tr>\n      <th>startDate</th>\n      <td>1694372</td>\n      <td>2023-03-15T00:00:00</td>\n    </tr>\n    <tr>\n      <th>startTime</th>\n      <td>1694372</td>\n      <td>2023-03-15T21:00:00</td>\n    </tr>\n    <tr>\n      <th>statusCode</th>\n      <td>1694372</td>\n      <td>6</td>\n    </tr>\n    <tr>\n      <th>timeStamp</th>\n      <td>1694372</td>\n      <td>2023-03-16 09:33:34</td>\n    </tr>\n    <tr>\n      <th>timeoutInSeconds</th>\n      <td>1694372</td>\n      <td>0</td>\n    </tr>\n    <tr>\n      <th>venueName</th>\n      <td>1694372</td>\n      <td>Santiago Bernabéu</td>\n    </tr>\n    <tr>\n      <th>weatherCode</th>\n      <td>1694372</td>\n      <td></td>\n    </tr>\n  </tbody>\n</table>\n</div>"
     },
     "execution_count": 30,
     "metadata": {},
     "output_type": "execute_result"
    }
   ],
   "source": [
    "match_data"
   ],
   "metadata": {
    "collapsed": false
   }
  },
  {
   "cell_type": "code",
   "execution_count": 31,
   "outputs": [
    {
     "data": {
      "text/plain": "<bound method IndexOpsMixin.value_counts of attendance                                                            63127\naway                      {'teamId': 26, 'formations': [{'formationId': ...\ncommonEvents                                                             []\nelapsed                                                                   F\netScore                                                                    \nevents                    [{'id': 2520480527.0, 'eventId': 2, 'minute': ...\nexpandedMaxMinute                                                        97\nexpandedMinutes           {'1': {'0': 0, '1': 1, '2': 2, '3': 3, '4': 4,...\nftScore                                                               1 : 0\nhome                      {'teamId': 52, 'formations': [{'formationId': ...\nhtScore                                                               0 : 0\nmaxMinute                                                                94\nmaxPeriod                                                                 2\nminuteExpanded                                                           97\nperiodCode                                                                7\nperiodEndMinutes                                         {'1': 47, '2': 94}\nperiodMinuteLimits                   {'1': 45, '2': 90, '3': 105, '4': 120}\npkScore                                                                    \nplayerIdNameDictionary    {'73798': 'Thibaut Courtois', '33404': 'Eden H...\nreferee                   {'officialId': 1128, 'firstName': 'Felix', 'la...\nscore                                                                 1 : 0\nstartDate                                               2023-03-15T00:00:00\nstartTime                                               2023-03-15T21:00:00\nstatusCode                                                                6\ntimeStamp                                               2023-03-16 09:33:34\ntimeoutInSeconds                                                          0\nvenueName                                                 Santiago Bernabéu\nweatherCode                                                                \nName: matchCentreData, dtype: object>"
     },
     "execution_count": 31,
     "metadata": {},
     "output_type": "execute_result"
    }
   ],
   "source": [
    "match_data['matchCentreData'].value_counts"
   ],
   "metadata": {
    "collapsed": false
   }
  },
  {
   "cell_type": "code",
   "execution_count": 32,
   "outputs": [
    {
     "ename": "TypeError",
     "evalue": "unhashable type: 'dict'",
     "output_type": "error",
     "traceback": [
      "\u001B[0;31m---------------------------------------------------------------------------\u001B[0m",
      "\u001B[0;31mTypeError\u001B[0m                                 Traceback (most recent call last)",
      "Cell \u001B[0;32mIn [32], line 1\u001B[0m\n\u001B[0;32m----> 1\u001B[0m \u001B[43mmatch_data\u001B[49m\u001B[43m[\u001B[49m\u001B[38;5;124;43m'\u001B[39;49m\u001B[38;5;124;43mmatchCentreData\u001B[39;49m\u001B[38;5;124;43m'\u001B[39;49m\u001B[43m]\u001B[49m\u001B[38;5;241;43m.\u001B[39;49m\u001B[43munique\u001B[49m\u001B[43m(\u001B[49m\u001B[43m)\u001B[49m\n",
      "File \u001B[0;32m~/Documents/Coding Projects/lib/python3.9/site-packages/pandas/core/series.py:2242\u001B[0m, in \u001B[0;36mSeries.unique\u001B[0;34m(self)\u001B[0m\n\u001B[1;32m   2183\u001B[0m \u001B[38;5;28;01mdef\u001B[39;00m \u001B[38;5;21munique\u001B[39m(\u001B[38;5;28mself\u001B[39m) \u001B[38;5;241m-\u001B[39m\u001B[38;5;241m>\u001B[39m ArrayLike:\n\u001B[1;32m   2184\u001B[0m \u001B[38;5;250m    \u001B[39m\u001B[38;5;124;03m\"\"\"\u001B[39;00m\n\u001B[1;32m   2185\u001B[0m \u001B[38;5;124;03m    Return unique values of Series object.\u001B[39;00m\n\u001B[1;32m   2186\u001B[0m \n\u001B[0;32m   (...)\u001B[0m\n\u001B[1;32m   2240\u001B[0m \u001B[38;5;124;03m    Categories (3, object): ['a' < 'b' < 'c']\u001B[39;00m\n\u001B[1;32m   2241\u001B[0m \u001B[38;5;124;03m    \"\"\"\u001B[39;00m\n\u001B[0;32m-> 2242\u001B[0m     \u001B[38;5;28;01mreturn\u001B[39;00m \u001B[38;5;28;43msuper\u001B[39;49m\u001B[43m(\u001B[49m\u001B[43m)\u001B[49m\u001B[38;5;241;43m.\u001B[39;49m\u001B[43munique\u001B[49m\u001B[43m(\u001B[49m\u001B[43m)\u001B[49m\n",
      "File \u001B[0;32m~/Documents/Coding Projects/lib/python3.9/site-packages/pandas/core/base.py:1001\u001B[0m, in \u001B[0;36mIndexOpsMixin.unique\u001B[0;34m(self)\u001B[0m\n\u001B[1;32m    999\u001B[0m         result \u001B[38;5;241m=\u001B[39m np\u001B[38;5;241m.\u001B[39masarray(result)\n\u001B[1;32m   1000\u001B[0m \u001B[38;5;28;01melse\u001B[39;00m:\n\u001B[0;32m-> 1001\u001B[0m     result \u001B[38;5;241m=\u001B[39m \u001B[43munique1d\u001B[49m\u001B[43m(\u001B[49m\u001B[43mvalues\u001B[49m\u001B[43m)\u001B[49m\n\u001B[1;32m   1003\u001B[0m \u001B[38;5;28;01mreturn\u001B[39;00m result\n",
      "File \u001B[0;32m~/Documents/Coding Projects/lib/python3.9/site-packages/pandas/core/algorithms.py:409\u001B[0m, in \u001B[0;36munique\u001B[0;34m(values)\u001B[0m\n\u001B[1;32m    315\u001B[0m \u001B[38;5;28;01mdef\u001B[39;00m \u001B[38;5;21munique\u001B[39m(values):\n\u001B[1;32m    316\u001B[0m \u001B[38;5;250m    \u001B[39m\u001B[38;5;124;03m\"\"\"\u001B[39;00m\n\u001B[1;32m    317\u001B[0m \u001B[38;5;124;03m    Return unique values based on a hash table.\u001B[39;00m\n\u001B[1;32m    318\u001B[0m \n\u001B[0;32m   (...)\u001B[0m\n\u001B[1;32m    407\u001B[0m \u001B[38;5;124;03m    array([('a', 'b'), ('b', 'a'), ('a', 'c')], dtype=object)\u001B[39;00m\n\u001B[1;32m    408\u001B[0m \u001B[38;5;124;03m    \"\"\"\u001B[39;00m\n\u001B[0;32m--> 409\u001B[0m     \u001B[38;5;28;01mreturn\u001B[39;00m \u001B[43munique_with_mask\u001B[49m\u001B[43m(\u001B[49m\u001B[43mvalues\u001B[49m\u001B[43m)\u001B[49m\n",
      "File \u001B[0;32m~/Documents/Coding Projects/lib/python3.9/site-packages/pandas/core/algorithms.py:425\u001B[0m, in \u001B[0;36munique_with_mask\u001B[0;34m(values, mask)\u001B[0m\n\u001B[1;32m    423\u001B[0m table \u001B[38;5;241m=\u001B[39m htable(\u001B[38;5;28mlen\u001B[39m(values))\n\u001B[1;32m    424\u001B[0m \u001B[38;5;28;01mif\u001B[39;00m mask \u001B[38;5;129;01mis\u001B[39;00m \u001B[38;5;28;01mNone\u001B[39;00m:\n\u001B[0;32m--> 425\u001B[0m     uniques \u001B[38;5;241m=\u001B[39m \u001B[43mtable\u001B[49m\u001B[38;5;241;43m.\u001B[39;49m\u001B[43munique\u001B[49m\u001B[43m(\u001B[49m\u001B[43mvalues\u001B[49m\u001B[43m)\u001B[49m\n\u001B[1;32m    426\u001B[0m     uniques \u001B[38;5;241m=\u001B[39m _reconstruct_data(uniques, original\u001B[38;5;241m.\u001B[39mdtype, original)\n\u001B[1;32m    427\u001B[0m     \u001B[38;5;28;01mreturn\u001B[39;00m uniques\n",
      "File \u001B[0;32mpandas/_libs/hashtable_class_helper.pxi:5910\u001B[0m, in \u001B[0;36mpandas._libs.hashtable.PyObjectHashTable.unique\u001B[0;34m()\u001B[0m\n",
      "File \u001B[0;32mpandas/_libs/hashtable_class_helper.pxi:5857\u001B[0m, in \u001B[0;36mpandas._libs.hashtable.PyObjectHashTable._unique\u001B[0;34m()\u001B[0m\n",
      "\u001B[0;31mTypeError\u001B[0m: unhashable type: 'dict'"
     ]
    }
   ],
   "source": [
    "match_data['matchCentreData'].unique()"
   ],
   "metadata": {
    "collapsed": false
   }
  },
  {
   "cell_type": "code",
   "execution_count": 33,
   "outputs": [
    {
     "data": {
      "text/plain": "28"
     },
     "execution_count": 33,
     "metadata": {},
     "output_type": "execute_result"
    }
   ],
   "source": [
    "len(match_data)"
   ],
   "metadata": {
    "collapsed": false
   }
  },
  {
   "cell_type": "code",
   "execution_count": 34,
   "outputs": [
    {
     "data": {
      "text/plain": "28"
     },
     "execution_count": 34,
     "metadata": {},
     "output_type": "execute_result"
    }
   ],
   "source": [
    "len(data)"
   ],
   "metadata": {
    "collapsed": false
   }
  },
  {
   "cell_type": "code",
   "execution_count": null,
   "outputs": [],
   "source": [],
   "metadata": {
    "collapsed": false
   }
  }
 ],
 "metadata": {
  "kernelspec": {
   "display_name": "Python 3",
   "language": "python",
   "name": "python3"
  },
  "language_info": {
   "codemirror_mode": {
    "name": "ipython",
    "version": 2
   },
   "file_extension": ".py",
   "mimetype": "text/x-python",
   "name": "python",
   "nbconvert_exporter": "python",
   "pygments_lexer": "ipython2",
   "version": "2.7.6"
  }
 },
 "nbformat": 4,
 "nbformat_minor": 0
}
