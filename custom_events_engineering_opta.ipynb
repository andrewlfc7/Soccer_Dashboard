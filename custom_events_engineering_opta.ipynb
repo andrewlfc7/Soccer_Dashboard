{
 "cells": [
  {
   "cell_type": "code",
   "execution_count": null,
   "metadata": {
    "collapsed": true
   },
   "outputs": [],
   "source": []
  },
  {
   "cell_type": "code",
   "execution_count": 1,
   "outputs": [],
   "source": [
    "import pandas as pd\n",
    "import sqlite3\n",
    "import json\n",
    "from ast import literal_eval\n"
   ],
   "metadata": {
    "collapsed": false
   }
  },
  {
   "cell_type": "code",
   "execution_count": 2,
   "outputs": [],
   "source": [
    "from  analysis_tool import whoscored_data_engineering as wcde\n",
    "import analysis_tool.whoscored_custom_events as ws_custom_events\n"
   ],
   "metadata": {
    "collapsed": false
   }
  },
  {
   "cell_type": "code",
   "execution_count": 3,
   "outputs": [],
   "source": [
    "data = pd.read_csv('Data/liverpool03_15_23.csv', index_col=0, low_memory=False)"
   ],
   "metadata": {
    "collapsed": false
   }
  },
  {
   "cell_type": "code",
   "execution_count": 4,
   "outputs": [],
   "source": [
    "data['qualifiers'] = [literal_eval(x) for x in data['qualifiers']]\n",
    "data['satisfiedEventsTypes'] = [literal_eval(x) for x in data['satisfiedEventsTypes']]"
   ],
   "metadata": {
    "collapsed": false
   }
  },
  {
   "cell_type": "code",
   "execution_count": 5,
   "outputs": [],
   "source": [
    "data.loc[:, 'is_open_play'] = True\n",
    "for index, record in enumerate(data['qualifiers']):\n",
    "    for attr in record:\n",
    "        if isinstance(attr, dict):\n",
    "            key_search = list(attr.keys())[0]\n",
    "            if key_search in ['GoalKick', 'FreekickTaken', 'CornerTaken', 'ThrowIn']:\n",
    "                data.at[index, 'is_open_play'] = False\n"
   ],
   "metadata": {
    "collapsed": false
   }
  },
  {
   "cell_type": "code",
   "execution_count": 6,
   "outputs": [
    {
     "data": {
      "text/plain": "True     1793\nFalse     102\nName: is_open_play, dtype: int64"
     },
     "execution_count": 6,
     "metadata": {},
     "output_type": "execute_result"
    }
   ],
   "source": [
    "data['is_open_play'].value_counts()"
   ],
   "metadata": {
    "collapsed": false
   }
  },
  {
   "cell_type": "code",
   "execution_count": 7,
   "outputs": [],
   "source": [
    "def check_if_pass_is_progressive(x, y, end_x, end_y):\n",
    "    '''\n",
    "    This function returns \"True\" if the pass meets the criteria\n",
    "    for a progressive pass.\n",
    "    '''\n",
    "    # -- Start position\n",
    "    height_start = abs(x - 100)\n",
    "    length_start = abs(y - 50)\n",
    "    distance_sq_start = height_start**2 + length_start**2\n",
    "    distance_start = distance_sq_start**(1/2)\n",
    "    # -- End position\n",
    "    height_end = abs(end_x - 100)\n",
    "    length_end = abs(end_y - 50)\n",
    "    distance_sq_end = height_end**2 + length_end**2\n",
    "    distance_end = distance_sq_end**(1/2)\n",
    "    # -- Calculate change in distance\n",
    "    delta_distance = distance_end/distance_start - 1\n",
    "    if delta_distance <= -0.25:\n",
    "        return True\n",
    "    else:\n",
    "        return False"
   ],
   "metadata": {
    "collapsed": false
   }
  },
  {
   "cell_type": "code",
   "execution_count": 8,
   "outputs": [],
   "source": [
    "data['is_progressive'] = data.apply(lambda x: check_if_pass_is_progressive(x['x'], x['y'], x['endX'], x['endY']), axis=1)\n"
   ],
   "metadata": {
    "collapsed": false
   }
  },
  {
   "cell_type": "code",
   "execution_count": 9,
   "outputs": [],
   "source": [
    "def check_if_pass_is_into_box(x, y, end_x, end_y):\n",
    "    '''\n",
    "    This function returns \"True\" if the pass meets the criteria\n",
    "    for a progressive pass and is successful into the box.\n",
    "    '''\n",
    "    # -- Start position\n",
    "    height_start = abs(x - 100)\n",
    "    length_start = abs(y - 50)\n",
    "    distance_sq_start = height_start**2 + length_start**2\n",
    "    distance_start = distance_sq_start**(1/2)\n",
    "    # -- End position\n",
    "    height_end = abs(end_x - 100)\n",
    "    length_end = abs(end_y - 50)\n",
    "    distance_sq_end = height_end**2 + length_end**2\n",
    "    distance_end = distance_sq_end**(1/2)\n",
    "    # -- Calculate change in distance\n",
    "    delta_distance = distance_end/distance_start - 1\n",
    "    # -- Determine pass end position and whether it's a successful pass into the box\n",
    "    x_position = 120 * end_x / 100\n",
    "    y_position = 80 * end_y / 100\n",
    "    if delta_distance <= -0.25 and x_position >= 102 and 18 <= y_position <= 62:\n",
    "        return True\n",
    "    else:\n",
    "        return False\n"
   ],
   "metadata": {
    "collapsed": false
   }
  },
  {
   "cell_type": "code",
   "execution_count": 10,
   "outputs": [],
   "source": [
    "data['is_pass_into_box'] = data.apply(lambda x: check_if_pass_is_into_box(x['x'], x['y'], x['endX'], x['endY']), axis=1)\n"
   ],
   "metadata": {
    "collapsed": false
   }
  },
  {
   "cell_type": "code",
   "execution_count": 11,
   "outputs": [
    {
     "data": {
      "text/plain": "False    1696\nTrue      199\nName: is_progressive, dtype: int64"
     },
     "execution_count": 11,
     "metadata": {},
     "output_type": "execute_result"
    }
   ],
   "source": [
    "data['is_progressive'].value_counts()"
   ],
   "metadata": {
    "collapsed": false
   }
  },
  {
   "cell_type": "code",
   "execution_count": 12,
   "outputs": [
    {
     "data": {
      "text/plain": "False    1825\nTrue       70\nName: is_pass_into_box, dtype: int64"
     },
     "execution_count": 12,
     "metadata": {},
     "output_type": "execute_result"
    }
   ],
   "source": [
    "data['is_pass_into_box'].value_counts()"
   ],
   "metadata": {
    "collapsed": false
   }
  },
  {
   "cell_type": "code",
   "execution_count": 13,
   "outputs": [],
   "source": [
    "# We define a set that covers all (I think) recovery ball actions:\n",
    "recovery_set = set(['ballRecovery','interceptionWon','tackleWon','foulGiven','duelAerialWon'])\n",
    "data = data.copy()\n",
    "data['won_possession'] = False\n",
    "for index, row in enumerate(data['satisfiedEventsTypes']):\n",
    "    set_element = set(row)\n",
    "    if len(recovery_set.intersection(set_element)) > 0:\n",
    "        data.at[index, 'won_possession'] = True"
   ],
   "metadata": {
    "collapsed": false
   }
  },
  {
   "cell_type": "code",
   "execution_count": 13,
   "outputs": [],
   "source": [],
   "metadata": {
    "collapsed": false
   }
  },
  {
   "cell_type": "code",
   "execution_count": 14,
   "outputs": [
    {
     "data": {
      "text/plain": "False    1732\nTrue      163\nName: won_possession, dtype: int64"
     },
     "execution_count": 14,
     "metadata": {},
     "output_type": "execute_result"
    }
   ],
   "source": [
    "data['won_possession'].value_counts()\n"
   ],
   "metadata": {
    "collapsed": false
   }
  },
  {
   "cell_type": "code",
   "execution_count": 15,
   "outputs": [],
   "source": [
    "data['is_carry_into_box'] = data.apply(ws_custom_events.carry_into_box, axis=1)\n"
   ],
   "metadata": {
    "collapsed": false
   }
  },
  {
   "cell_type": "code",
   "execution_count": 16,
   "outputs": [
    {
     "data": {
      "text/plain": "True    9\nName: is_carry_into_box, dtype: int64"
     },
     "execution_count": 16,
     "metadata": {},
     "output_type": "execute_result"
    }
   ],
   "source": [
    "data['is_carry_into_box'].value_counts()\n"
   ],
   "metadata": {
    "collapsed": false
   }
  },
  {
   "cell_type": "code",
   "execution_count": 17,
   "outputs": [],
   "source": [
    "data['is_pass_into_box'] = data.apply(ws_custom_events.pass_into_box, axis=1)\n"
   ],
   "metadata": {
    "collapsed": false
   }
  },
  {
   "cell_type": "code",
   "execution_count": 18,
   "outputs": [],
   "source": [
    "data['progressive_carry'] = data.apply(ws_custom_events.progressive_carry, axis=1)"
   ],
   "metadata": {
    "collapsed": false
   }
  },
  {
   "cell_type": "code",
   "execution_count": 19,
   "outputs": [
    {
     "data": {
      "text/plain": "True    29\nName: progressive_carry, dtype: int64"
     },
     "execution_count": 19,
     "metadata": {},
     "output_type": "execute_result"
    }
   ],
   "source": [
    "data['progressive_carry'].value_counts()"
   ],
   "metadata": {
    "collapsed": false
   }
  },
  {
   "cell_type": "code",
   "execution_count": 21,
   "outputs": [],
   "source": [
    "data.to_csv('Data/liverpool03_15_23.csv')"
   ],
   "metadata": {
    "collapsed": false
   }
  },
  {
   "cell_type": "code",
   "execution_count": null,
   "outputs": [],
   "source": [],
   "metadata": {
    "collapsed": false
   }
  }
 ],
 "metadata": {
  "kernelspec": {
   "display_name": "Python 3",
   "language": "python",
   "name": "python3"
  },
  "language_info": {
   "codemirror_mode": {
    "name": "ipython",
    "version": 2
   },
   "file_extension": ".py",
   "mimetype": "text/x-python",
   "name": "python",
   "nbconvert_exporter": "python",
   "pygments_lexer": "ipython2",
   "version": "2.7.6"
  }
 },
 "nbformat": 4,
 "nbformat_minor": 0
}
