{
 "cells": [
  {
   "cell_type": "code",
   "execution_count": 2,
   "outputs": [],
   "source": [
    "\n",
    "from bs4 import  BeautifulSoup\n",
    "import json\n",
    "import re\n",
    "import requests\n",
    "from bs4 import BeautifulSoup\n",
    "import pandas as pd\n",
    "import sqlite3"
   ],
   "metadata": {
    "collapsed": false
   }
  },
  {
   "cell_type": "code",
   "execution_count": 2,
   "outputs": [],
   "source": [],
   "metadata": {
    "collapsed": false
   }
  },
  {
   "cell_type": "code",
   "execution_count": 2,
   "outputs": [],
   "source": [
    "data = pd.read_csv('./Data/liverpool03_11_23.csv')\n",
    "data"
   ],
   "metadata": {
    "collapsed": false
   }
  },
  {
   "cell_type": "code",
   "execution_count": 3,
   "outputs": [],
   "source": [
    "con = sqlite3.connect(\"Database/opta_event_data22_23.db\")\n",
    "cur = con.cursor()\n"
   ],
   "metadata": {
    "collapsed": false
   }
  },
  {
   "cell_type": "code",
   "execution_count": 5,
   "outputs": [
    {
     "data": {
      "text/plain": "      Unnamed: 0  eventId  minute  second  teamId     x     y  expandedMinute  \\\n0              0      2.0     0.0     0.0     183   0.0   0.0             0.0   \n1              1      2.0     0.0     0.0      26   0.0   0.0             0.0   \n2              2      3.0     0.0     1.0      26  50.1  49.7             0.0   \n3              3      4.0     0.0     3.0      26  29.6  41.6             0.0   \n4              4      3.0     0.0     6.0     183  35.6  23.8             0.0   \n...          ...      ...     ...     ...     ...   ...   ...             ...   \n1765        1765  11587.0    79.0     NaN     183  94.2  93.9            81.0   \n1766        1766    710.0     0.0     0.0     183   0.0   0.0             7.0   \n1767        1767   1053.0     0.0     0.0      26   0.0   0.0             7.0   \n1768        1768      1.0     0.0     0.0      26   0.0   0.0             0.0   \n1769        1769      1.0     0.0     0.0     183   0.0   0.0             0.0   \n\n      period type  ... Venue   xThreat xThreat_gen       playerName  \\\n0        1.0  NaN  ...  Home       NaN         NaN          Unknown   \n1        1.0  NaN  ...  Away       NaN         NaN          Unknown   \n2        1.0  NaN  ...  Away -0.004739         0.0   Harvey Elliott   \n3        1.0  NaN  ...  Away       NaN         NaN  Ibrahima Konaté   \n4        1.0  NaN  ...  Home       NaN         NaN   Dango Ouattara   \n...      ...  ...  ...   ...       ...         ...              ...   \n1765     2.0  NaN  ...  Home       NaN         NaN   Jaidon Anthony   \n1766     NaN  NaN  ...  Home       NaN         NaN          Unknown   \n1767     NaN  NaN  ...  Away       NaN         NaN          Unknown   \n1768     NaN  NaN  ...  Away       NaN         NaN          Unknown   \n1769     NaN  NaN  ...  Home       NaN         NaN          Unknown   \n\n      is_open_play  is_progressive  is_pass_into_box  won_possession  \\\n0             True           False               NaN           False   \n1             True           False               NaN           False   \n2             True           False               NaN           False   \n3             True            True               NaN           False   \n4             True           False               NaN            True   \n...            ...             ...               ...             ...   \n1765          True           False               NaN           False   \n1766          True           False               NaN           False   \n1767          True           False               NaN           False   \n1768          True           False               NaN           False   \n1769          True           False               NaN           False   \n\n      is_carry_into_box  progressive_carry  \n0                   NaN                NaN  \n1                   NaN                NaN  \n2                   NaN                NaN  \n3                   NaN                NaN  \n4                   NaN                NaN  \n...                 ...                ...  \n1765                NaN                NaN  \n1766                NaN                NaN  \n1767                NaN                NaN  \n1768                NaN                NaN  \n1769                NaN                NaN  \n\n[1770 rows x 44 columns]",
      "text/html": "<div>\n<style scoped>\n    .dataframe tbody tr th:only-of-type {\n        vertical-align: middle;\n    }\n\n    .dataframe tbody tr th {\n        vertical-align: top;\n    }\n\n    .dataframe thead th {\n        text-align: right;\n    }\n</style>\n<table border=\"1\" class=\"dataframe\">\n  <thead>\n    <tr style=\"text-align: right;\">\n      <th></th>\n      <th>Unnamed: 0</th>\n      <th>eventId</th>\n      <th>minute</th>\n      <th>second</th>\n      <th>teamId</th>\n      <th>x</th>\n      <th>y</th>\n      <th>expandedMinute</th>\n      <th>period</th>\n      <th>type</th>\n      <th>...</th>\n      <th>Venue</th>\n      <th>xThreat</th>\n      <th>xThreat_gen</th>\n      <th>playerName</th>\n      <th>is_open_play</th>\n      <th>is_progressive</th>\n      <th>is_pass_into_box</th>\n      <th>won_possession</th>\n      <th>is_carry_into_box</th>\n      <th>progressive_carry</th>\n    </tr>\n  </thead>\n  <tbody>\n    <tr>\n      <th>0</th>\n      <td>0</td>\n      <td>2.0</td>\n      <td>0.0</td>\n      <td>0.0</td>\n      <td>183</td>\n      <td>0.0</td>\n      <td>0.0</td>\n      <td>0.0</td>\n      <td>1.0</td>\n      <td>NaN</td>\n      <td>...</td>\n      <td>Home</td>\n      <td>NaN</td>\n      <td>NaN</td>\n      <td>Unknown</td>\n      <td>True</td>\n      <td>False</td>\n      <td>NaN</td>\n      <td>False</td>\n      <td>NaN</td>\n      <td>NaN</td>\n    </tr>\n    <tr>\n      <th>1</th>\n      <td>1</td>\n      <td>2.0</td>\n      <td>0.0</td>\n      <td>0.0</td>\n      <td>26</td>\n      <td>0.0</td>\n      <td>0.0</td>\n      <td>0.0</td>\n      <td>1.0</td>\n      <td>NaN</td>\n      <td>...</td>\n      <td>Away</td>\n      <td>NaN</td>\n      <td>NaN</td>\n      <td>Unknown</td>\n      <td>True</td>\n      <td>False</td>\n      <td>NaN</td>\n      <td>False</td>\n      <td>NaN</td>\n      <td>NaN</td>\n    </tr>\n    <tr>\n      <th>2</th>\n      <td>2</td>\n      <td>3.0</td>\n      <td>0.0</td>\n      <td>1.0</td>\n      <td>26</td>\n      <td>50.1</td>\n      <td>49.7</td>\n      <td>0.0</td>\n      <td>1.0</td>\n      <td>NaN</td>\n      <td>...</td>\n      <td>Away</td>\n      <td>-0.004739</td>\n      <td>0.0</td>\n      <td>Harvey Elliott</td>\n      <td>True</td>\n      <td>False</td>\n      <td>NaN</td>\n      <td>False</td>\n      <td>NaN</td>\n      <td>NaN</td>\n    </tr>\n    <tr>\n      <th>3</th>\n      <td>3</td>\n      <td>4.0</td>\n      <td>0.0</td>\n      <td>3.0</td>\n      <td>26</td>\n      <td>29.6</td>\n      <td>41.6</td>\n      <td>0.0</td>\n      <td>1.0</td>\n      <td>NaN</td>\n      <td>...</td>\n      <td>Away</td>\n      <td>NaN</td>\n      <td>NaN</td>\n      <td>Ibrahima Konaté</td>\n      <td>True</td>\n      <td>True</td>\n      <td>NaN</td>\n      <td>False</td>\n      <td>NaN</td>\n      <td>NaN</td>\n    </tr>\n    <tr>\n      <th>4</th>\n      <td>4</td>\n      <td>3.0</td>\n      <td>0.0</td>\n      <td>6.0</td>\n      <td>183</td>\n      <td>35.6</td>\n      <td>23.8</td>\n      <td>0.0</td>\n      <td>1.0</td>\n      <td>NaN</td>\n      <td>...</td>\n      <td>Home</td>\n      <td>NaN</td>\n      <td>NaN</td>\n      <td>Dango Ouattara</td>\n      <td>True</td>\n      <td>False</td>\n      <td>NaN</td>\n      <td>True</td>\n      <td>NaN</td>\n      <td>NaN</td>\n    </tr>\n    <tr>\n      <th>...</th>\n      <td>...</td>\n      <td>...</td>\n      <td>...</td>\n      <td>...</td>\n      <td>...</td>\n      <td>...</td>\n      <td>...</td>\n      <td>...</td>\n      <td>...</td>\n      <td>...</td>\n      <td>...</td>\n      <td>...</td>\n      <td>...</td>\n      <td>...</td>\n      <td>...</td>\n      <td>...</td>\n      <td>...</td>\n      <td>...</td>\n      <td>...</td>\n      <td>...</td>\n      <td>...</td>\n    </tr>\n    <tr>\n      <th>1765</th>\n      <td>1765</td>\n      <td>11587.0</td>\n      <td>79.0</td>\n      <td>NaN</td>\n      <td>183</td>\n      <td>94.2</td>\n      <td>93.9</td>\n      <td>81.0</td>\n      <td>2.0</td>\n      <td>NaN</td>\n      <td>...</td>\n      <td>Home</td>\n      <td>NaN</td>\n      <td>NaN</td>\n      <td>Jaidon Anthony</td>\n      <td>True</td>\n      <td>False</td>\n      <td>NaN</td>\n      <td>False</td>\n      <td>NaN</td>\n      <td>NaN</td>\n    </tr>\n    <tr>\n      <th>1766</th>\n      <td>1766</td>\n      <td>710.0</td>\n      <td>0.0</td>\n      <td>0.0</td>\n      <td>183</td>\n      <td>0.0</td>\n      <td>0.0</td>\n      <td>7.0</td>\n      <td>NaN</td>\n      <td>NaN</td>\n      <td>...</td>\n      <td>Home</td>\n      <td>NaN</td>\n      <td>NaN</td>\n      <td>Unknown</td>\n      <td>True</td>\n      <td>False</td>\n      <td>NaN</td>\n      <td>False</td>\n      <td>NaN</td>\n      <td>NaN</td>\n    </tr>\n    <tr>\n      <th>1767</th>\n      <td>1767</td>\n      <td>1053.0</td>\n      <td>0.0</td>\n      <td>0.0</td>\n      <td>26</td>\n      <td>0.0</td>\n      <td>0.0</td>\n      <td>7.0</td>\n      <td>NaN</td>\n      <td>NaN</td>\n      <td>...</td>\n      <td>Away</td>\n      <td>NaN</td>\n      <td>NaN</td>\n      <td>Unknown</td>\n      <td>True</td>\n      <td>False</td>\n      <td>NaN</td>\n      <td>False</td>\n      <td>NaN</td>\n      <td>NaN</td>\n    </tr>\n    <tr>\n      <th>1768</th>\n      <td>1768</td>\n      <td>1.0</td>\n      <td>0.0</td>\n      <td>0.0</td>\n      <td>26</td>\n      <td>0.0</td>\n      <td>0.0</td>\n      <td>0.0</td>\n      <td>NaN</td>\n      <td>NaN</td>\n      <td>...</td>\n      <td>Away</td>\n      <td>NaN</td>\n      <td>NaN</td>\n      <td>Unknown</td>\n      <td>True</td>\n      <td>False</td>\n      <td>NaN</td>\n      <td>False</td>\n      <td>NaN</td>\n      <td>NaN</td>\n    </tr>\n    <tr>\n      <th>1769</th>\n      <td>1769</td>\n      <td>1.0</td>\n      <td>0.0</td>\n      <td>0.0</td>\n      <td>183</td>\n      <td>0.0</td>\n      <td>0.0</td>\n      <td>0.0</td>\n      <td>NaN</td>\n      <td>NaN</td>\n      <td>...</td>\n      <td>Home</td>\n      <td>NaN</td>\n      <td>NaN</td>\n      <td>Unknown</td>\n      <td>True</td>\n      <td>False</td>\n      <td>NaN</td>\n      <td>False</td>\n      <td>NaN</td>\n      <td>NaN</td>\n    </tr>\n  </tbody>\n</table>\n<p>1770 rows × 44 columns</p>\n</div>"
     },
     "execution_count": 5,
     "metadata": {},
     "output_type": "execute_result"
    }
   ],
   "source": [],
   "metadata": {
    "collapsed": false
   }
  },
  {
   "cell_type": "code",
   "execution_count": 6,
   "outputs": [],
   "source": [
    "# convert the column of lists to a string representation\n",
    "data['satisfiedEventsTypes'] = data['satisfiedEventsTypes'].apply(str)\n",
    "\n",
    "# save the dataframe to a table in the database\n",
    "data.to_sql(name='Matches', con=con , if_exists=\"append\")\n",
    "con.commit()\n",
    "con.close()\n"
   ],
   "metadata": {
    "collapsed": false
   }
  },
  {
   "cell_type": "code",
   "execution_count": null,
   "outputs": [],
   "source": [],
   "metadata": {
    "collapsed": false
   }
  },
  {
   "cell_type": "code",
   "execution_count": null,
   "outputs": [],
   "source": [],
   "metadata": {
    "collapsed": false
   }
  },
  {
   "cell_type": "code",
   "execution_count": null,
   "outputs": [],
   "source": [],
   "metadata": {
    "collapsed": false
   }
  },
  {
   "cell_type": "code",
   "execution_count": null,
   "outputs": [],
   "source": [],
   "metadata": {
    "collapsed": false
   }
  },
  {
   "cell_type": "code",
   "execution_count": null,
   "outputs": [],
   "source": [],
   "metadata": {
    "collapsed": false
   }
  }
 ],
 "metadata": {
  "kernelspec": {
   "display_name": "Python 3",
   "language": "python",
   "name": "python3"
  },
  "language_info": {
   "codemirror_mode": {
    "name": "ipython",
    "version": 2
   },
   "file_extension": ".py",
   "mimetype": "text/x-python",
   "name": "python",
   "nbconvert_exporter": "python",
   "pygments_lexer": "ipython2",
   "version": "2.7.6"
  }
 },
 "nbformat": 4,
 "nbformat_minor": 0
}
