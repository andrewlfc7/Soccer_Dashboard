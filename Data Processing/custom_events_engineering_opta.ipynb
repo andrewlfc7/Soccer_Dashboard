{
 "cells": [
  {
   "cell_type": "code",
   "execution_count": null,
   "metadata": {
    "collapsed": true
   },
   "outputs": [],
   "source": []
  },
  {
   "cell_type": "code",
   "execution_count": 2,
   "outputs": [],
   "source": [
    "import pandas as pd\n",
    "import sqlite3\n",
    "import json\n",
    "from ast import literal_eval\n"
   ],
   "metadata": {
    "collapsed": false
   }
  },
  {
   "cell_type": "code",
   "execution_count": 3,
   "outputs": [],
   "source": [
    "from  analysis_tools import whoscored_data_engineering as wcde\n",
    "import analysis_tools.whoscored_custom_events as ws_custom_events\n"
   ],
   "metadata": {
    "collapsed": false
   }
  },
  {
   "cell_type": "code",
   "execution_count": 4,
   "outputs": [],
   "source": [
    "data = pd.read_csv('./Data/liverpool03_11_23.csv', index_col=0, low_memory=False)"
   ],
   "metadata": {
    "collapsed": false
   }
  },
  {
   "cell_type": "code",
   "execution_count": 5,
   "outputs": [],
   "source": [
    "data['qualifiers'] = [literal_eval(x) for x in data['qualifiers']]\n",
    "data['satisfiedEventsTypes'] = [literal_eval(x) for x in data['satisfiedEventsTypes']]"
   ],
   "metadata": {
    "collapsed": false
   }
  },
  {
   "cell_type": "code",
   "execution_count": 40,
   "outputs": [],
   "source": [],
   "metadata": {
    "collapsed": false
   }
  },
  {
   "cell_type": "code",
   "execution_count": 41,
   "outputs": [
    {
     "ename": "AttributeError",
     "evalue": "'str' object has no attribute 'keys'",
     "output_type": "error",
     "traceback": [
      "\u001B[0;31m---------------------------------------------------------------------------\u001B[0m",
      "\u001B[0;31mAttributeError\u001B[0m                            Traceback (most recent call last)",
      "Cell \u001B[0;32mIn [41], line 4\u001B[0m\n\u001B[1;32m      2\u001B[0m \u001B[38;5;28;01mfor\u001B[39;00m index, record \u001B[38;5;129;01min\u001B[39;00m \u001B[38;5;28menumerate\u001B[39m(data[\u001B[38;5;124m'\u001B[39m\u001B[38;5;124mqualifiers\u001B[39m\u001B[38;5;124m'\u001B[39m]):\n\u001B[1;32m      3\u001B[0m     \u001B[38;5;28;01mfor\u001B[39;00m attr \u001B[38;5;129;01min\u001B[39;00m record:\n\u001B[0;32m----> 4\u001B[0m         key_search \u001B[38;5;241m=\u001B[39m \u001B[38;5;28mlist\u001B[39m(\u001B[43mattr\u001B[49m\u001B[38;5;241;43m.\u001B[39;49m\u001B[43mkeys\u001B[49m())[\u001B[38;5;241m0\u001B[39m]\n\u001B[1;32m      5\u001B[0m         \u001B[38;5;28;01mif\u001B[39;00m key_search \u001B[38;5;129;01min\u001B[39;00m [\u001B[38;5;124m'\u001B[39m\u001B[38;5;124mGoalKick\u001B[39m\u001B[38;5;124m'\u001B[39m, \u001B[38;5;124m'\u001B[39m\u001B[38;5;124mFreekickTaken\u001B[39m\u001B[38;5;124m'\u001B[39m, \u001B[38;5;124m'\u001B[39m\u001B[38;5;124mCornerTaken\u001B[39m\u001B[38;5;124m'\u001B[39m, \u001B[38;5;124m'\u001B[39m\u001B[38;5;124mThrowIn\u001B[39m\u001B[38;5;124m'\u001B[39m]:\n\u001B[1;32m      6\u001B[0m             data\u001B[38;5;241m.\u001B[39mat[index, \u001B[38;5;124m'\u001B[39m\u001B[38;5;124mis_open_play\u001B[39m\u001B[38;5;124m'\u001B[39m] \u001B[38;5;241m=\u001B[39m \u001B[38;5;28;01mFalse\u001B[39;00m\n",
      "\u001B[0;31mAttributeError\u001B[0m: 'str' object has no attribute 'keys'"
     ]
    }
   ],
   "source": [],
   "metadata": {
    "collapsed": false
   }
  },
  {
   "cell_type": "code",
   "execution_count": 6,
   "outputs": [],
   "source": [
    "data.loc[:, 'is_open_play'] = True\n",
    "for index, record in enumerate(data['qualifiers']):\n",
    "    for attr in record:\n",
    "        if isinstance(attr, dict):\n",
    "            key_search = list(attr.keys())[0]\n",
    "            if key_search in ['GoalKick', 'FreekickTaken', 'CornerTaken', 'ThrowIn']:\n",
    "                data.at[index, 'is_open_play'] = False\n"
   ],
   "metadata": {
    "collapsed": false
   }
  },
  {
   "cell_type": "code",
   "execution_count": 7,
   "outputs": [
    {
     "data": {
      "text/plain": "True     1667\nFalse     103\nName: is_open_play, dtype: int64"
     },
     "execution_count": 7,
     "metadata": {},
     "output_type": "execute_result"
    }
   ],
   "source": [
    "data['is_open_play'].value_counts()"
   ],
   "metadata": {
    "collapsed": false
   }
  },
  {
   "cell_type": "code",
   "execution_count": null,
   "outputs": [],
   "source": [],
   "metadata": {
    "collapsed": false
   }
  },
  {
   "cell_type": "code",
   "execution_count": null,
   "outputs": [],
   "source": [],
   "metadata": {
    "collapsed": false
   }
  },
  {
   "cell_type": "code",
   "execution_count": 8,
   "outputs": [],
   "source": [
    "def check_if_pass_is_progressive(x, y, end_x, end_y):\n",
    "    '''\n",
    "    This function returns \"True\" if the pass meets the criteria\n",
    "    for a progressive pass.\n",
    "    '''\n",
    "    # -- Start position\n",
    "    height_start = abs(x - 100)\n",
    "    length_start = abs(y - 50)\n",
    "    distance_sq_start = height_start**2 + length_start**2\n",
    "    distance_start = distance_sq_start**(1/2)\n",
    "    # -- End position\n",
    "    height_end = abs(end_x - 100)\n",
    "    length_end = abs(end_y - 50)\n",
    "    distance_sq_end = height_end**2 + length_end**2\n",
    "    distance_end = distance_sq_end**(1/2)\n",
    "    # -- Calculate change in distance\n",
    "    delta_distance = distance_end/distance_start - 1\n",
    "    if delta_distance <= -0.25:\n",
    "        return True\n",
    "    else:\n",
    "        return False"
   ],
   "metadata": {
    "collapsed": false
   }
  },
  {
   "cell_type": "code",
   "execution_count": 9,
   "outputs": [],
   "source": [
    "data['is_progressive'] = data.apply(lambda x: check_if_pass_is_progressive(x['x'], x['y'], x['endX'], x['endY']), axis=1)\n"
   ],
   "metadata": {
    "collapsed": false
   }
  },
  {
   "cell_type": "code",
   "execution_count": 9,
   "outputs": [],
   "source": [],
   "metadata": {
    "collapsed": false
   }
  },
  {
   "cell_type": "code",
   "execution_count": 9,
   "outputs": [],
   "source": [],
   "metadata": {
    "collapsed": false
   }
  },
  {
   "cell_type": "code",
   "execution_count": 10,
   "outputs": [],
   "source": [
    "def check_if_pass_is_into_box(x, y, end_x, end_y):\n",
    "    '''\n",
    "    This function returns \"True\" if the pass meets the criteria\n",
    "    for a progressive pass and is successful into the box.\n",
    "    '''\n",
    "    # -- Start position\n",
    "    height_start = abs(x - 100)\n",
    "    length_start = abs(y - 50)\n",
    "    distance_sq_start = height_start**2 + length_start**2\n",
    "    distance_start = distance_sq_start**(1/2)\n",
    "    # -- End position\n",
    "    height_end = abs(end_x - 100)\n",
    "    length_end = abs(end_y - 50)\n",
    "    distance_sq_end = height_end**2 + length_end**2\n",
    "    distance_end = distance_sq_end**(1/2)\n",
    "    # -- Calculate change in distance\n",
    "    delta_distance = distance_end/distance_start - 1\n",
    "    # -- Determine pass end position and whether it's a successful pass into the box\n",
    "    x_position = 120 * end_x / 100\n",
    "    y_position = 80 * end_y / 100\n",
    "    if delta_distance <= -0.25 and x_position >= 102 and 18 <= y_position <= 62:\n",
    "        return True\n",
    "    else:\n",
    "        return False\n"
   ],
   "metadata": {
    "collapsed": false
   }
  },
  {
   "cell_type": "code",
   "execution_count": 11,
   "outputs": [],
   "source": [
    "data['is_pass_into_box'] = data.apply(lambda x: check_if_pass_is_into_box(x['x'], x['y'], x['endX'], x['endY']), axis=1)\n"
   ],
   "metadata": {
    "collapsed": false
   }
  },
  {
   "cell_type": "code",
   "execution_count": 12,
   "outputs": [
    {
     "data": {
      "text/plain": "False    1566\nTrue      204\nName: is_progressive, dtype: int64"
     },
     "execution_count": 12,
     "metadata": {},
     "output_type": "execute_result"
    }
   ],
   "source": [
    "data['is_progressive'].value_counts()"
   ],
   "metadata": {
    "collapsed": false
   }
  },
  {
   "cell_type": "code",
   "execution_count": 13,
   "outputs": [
    {
     "data": {
      "text/plain": "False    1706\nTrue       64\nName: is_pass_into_box, dtype: int64"
     },
     "execution_count": 13,
     "metadata": {},
     "output_type": "execute_result"
    }
   ],
   "source": [
    "data['is_pass_into_box'].value_counts()"
   ],
   "metadata": {
    "collapsed": false
   }
  },
  {
   "cell_type": "code",
   "execution_count": null,
   "outputs": [],
   "source": [],
   "metadata": {
    "collapsed": false
   }
  },
  {
   "cell_type": "code",
   "execution_count": null,
   "outputs": [],
   "source": [],
   "metadata": {
    "collapsed": false
   }
  },
  {
   "cell_type": "code",
   "execution_count": null,
   "outputs": [],
   "source": [],
   "metadata": {
    "collapsed": false
   }
  },
  {
   "cell_type": "code",
   "execution_count": null,
   "outputs": [],
   "source": [],
   "metadata": {
    "collapsed": false
   }
  },
  {
   "cell_type": "code",
   "execution_count": 14,
   "outputs": [],
   "source": [
    "# We define a set that covers all (I think) recovery ball actions:\n",
    "recovery_set = set(['ballRecovery','interceptionWon','tackleWon','foulGiven','duelAerialWon'])\n",
    "data = data.copy()\n",
    "data['won_possession'] = False\n",
    "for index, row in enumerate(data['satisfiedEventsTypes']):\n",
    "    set_element = set(row)\n",
    "    if len(recovery_set.intersection(set_element)) > 0:\n",
    "        data.at[index, 'won_possession'] = True"
   ],
   "metadata": {
    "collapsed": false
   }
  },
  {
   "cell_type": "code",
   "execution_count": 14,
   "outputs": [],
   "source": [],
   "metadata": {
    "collapsed": false
   }
  },
  {
   "cell_type": "code",
   "execution_count": 15,
   "outputs": [
    {
     "data": {
      "text/plain": "False    1550\nTrue      220\nName: won_possession, dtype: int64"
     },
     "execution_count": 15,
     "metadata": {},
     "output_type": "execute_result"
    }
   ],
   "source": [
    "data['won_possession'].value_counts()\n"
   ],
   "metadata": {
    "collapsed": false
   }
  },
  {
   "cell_type": "code",
   "execution_count": null,
   "outputs": [],
   "source": [],
   "metadata": {
    "collapsed": false
   }
  },
  {
   "cell_type": "code",
   "execution_count": null,
   "outputs": [],
   "source": [],
   "metadata": {
    "collapsed": false
   }
  },
  {
   "cell_type": "code",
   "execution_count": null,
   "outputs": [],
   "source": [],
   "metadata": {
    "collapsed": false
   }
  },
  {
   "cell_type": "code",
   "execution_count": 19,
   "outputs": [
    {
     "ename": "ValueError",
     "evalue": "The truth value of a Series is ambiguous. Use a.empty, a.bool(), a.item(), a.any() or a.all().",
     "output_type": "error",
     "traceback": [
      "\u001B[0;31m---------------------------------------------------------------------------\u001B[0m",
      "\u001B[0;31mValueError\u001B[0m                                Traceback (most recent call last)",
      "Cell \u001B[0;32mIn [19], line 1\u001B[0m\n\u001B[0;32m----> 1\u001B[0m \u001B[43mws_custom_events\u001B[49m\u001B[38;5;241;43m.\u001B[39;49m\u001B[43mcarry_into_box\u001B[49m\u001B[43m(\u001B[49m\u001B[43mdata\u001B[49m\u001B[43m)\u001B[49m\n",
      "File \u001B[0;32m~/Documents/Coding Projects/Soccer Coding Projects/Football_Anal/analysis_tools/whoscored_custom_events.py:256\u001B[0m, in \u001B[0;36mcarry_into_box\u001B[0;34m(single_event, successful_only)\u001B[0m\n\u001B[1;32m    241\u001B[0m \u001B[38;5;124;03m\"\"\" Identify successful carry into box from whoscored-style pass event.\u001B[39;00m\n\u001B[1;32m    242\u001B[0m \n\u001B[1;32m    243\u001B[0m \u001B[38;5;124;03mFunction to identify successful carries that end up in the opposition box. The function takes in a single event,\u001B[39;00m\n\u001B[0;32m   (...)\u001B[0m\n\u001B[1;32m    252\u001B[0m \u001B[38;5;124;03m    bool: True = successful carry into the box, nan = not box carry, unsuccessful carry or not a carry.\u001B[39;00m\n\u001B[1;32m    253\u001B[0m \u001B[38;5;124;03m\"\"\"\u001B[39;00m\n\u001B[1;32m    255\u001B[0m \u001B[38;5;66;03m# Determine if event is pass and check pass success\u001B[39;00m\n\u001B[0;32m--> 256\u001B[0m \u001B[38;5;28;01mif\u001B[39;00m single_event[\u001B[38;5;124m'\u001B[39m\u001B[38;5;124mevent_type\u001B[39m\u001B[38;5;124m'\u001B[39m] \u001B[38;5;241m==\u001B[39m \u001B[38;5;124m'\u001B[39m\u001B[38;5;124mCarry\u001B[39m\u001B[38;5;124m'\u001B[39m:\n\u001B[1;32m    257\u001B[0m \n\u001B[1;32m    258\u001B[0m     \u001B[38;5;66;03m# Check success (if successful_only = True)\u001B[39;00m\n\u001B[1;32m    259\u001B[0m     \u001B[38;5;28;01mif\u001B[39;00m successful_only:\n\u001B[1;32m    260\u001B[0m         check_success \u001B[38;5;241m=\u001B[39m single_event[\u001B[38;5;124m'\u001B[39m\u001B[38;5;124moutcomeType\u001B[39m\u001B[38;5;124m'\u001B[39m] \u001B[38;5;241m==\u001B[39m \u001B[38;5;124m'\u001B[39m\u001B[38;5;124mSuccessful\u001B[39m\u001B[38;5;124m'\u001B[39m\n",
      "File \u001B[0;32m~/Documents/Coding Projects/lib/python3.9/site-packages/pandas/core/generic.py:1527\u001B[0m, in \u001B[0;36mNDFrame.__nonzero__\u001B[0;34m(self)\u001B[0m\n\u001B[1;32m   1525\u001B[0m \u001B[38;5;129m@final\u001B[39m\n\u001B[1;32m   1526\u001B[0m \u001B[38;5;28;01mdef\u001B[39;00m \u001B[38;5;21m__nonzero__\u001B[39m(\u001B[38;5;28mself\u001B[39m) \u001B[38;5;241m-\u001B[39m\u001B[38;5;241m>\u001B[39m NoReturn:\n\u001B[0;32m-> 1527\u001B[0m     \u001B[38;5;28;01mraise\u001B[39;00m \u001B[38;5;167;01mValueError\u001B[39;00m(\n\u001B[1;32m   1528\u001B[0m         \u001B[38;5;124mf\u001B[39m\u001B[38;5;124m\"\u001B[39m\u001B[38;5;124mThe truth value of a \u001B[39m\u001B[38;5;132;01m{\u001B[39;00m\u001B[38;5;28mtype\u001B[39m(\u001B[38;5;28mself\u001B[39m)\u001B[38;5;241m.\u001B[39m\u001B[38;5;18m__name__\u001B[39m\u001B[38;5;132;01m}\u001B[39;00m\u001B[38;5;124m is ambiguous. \u001B[39m\u001B[38;5;124m\"\u001B[39m\n\u001B[1;32m   1529\u001B[0m         \u001B[38;5;124m\"\u001B[39m\u001B[38;5;124mUse a.empty, a.bool(), a.item(), a.any() or a.all().\u001B[39m\u001B[38;5;124m\"\u001B[39m\n\u001B[1;32m   1530\u001B[0m     )\n",
      "\u001B[0;31mValueError\u001B[0m: The truth value of a Series is ambiguous. Use a.empty, a.bool(), a.item(), a.any() or a.all()."
     ]
    }
   ],
   "source": [
    "ws_custom_events.carry_into_box(data)"
   ],
   "metadata": {
    "collapsed": false
   }
  },
  {
   "cell_type": "code",
   "execution_count": null,
   "outputs": [],
   "source": [],
   "metadata": {
    "collapsed": false
   }
  },
  {
   "cell_type": "code",
   "execution_count": 16,
   "outputs": [],
   "source": [
    "data['is_carry_into_box'] = data.apply(ws_custom_events.carry_into_box, axis=1)\n"
   ],
   "metadata": {
    "collapsed": false
   }
  },
  {
   "cell_type": "code",
   "execution_count": 18,
   "outputs": [
    {
     "data": {
      "text/plain": "True    6\nName: is_carry_into_box, dtype: int64"
     },
     "execution_count": 18,
     "metadata": {},
     "output_type": "execute_result"
    }
   ],
   "source": [
    "data['is_carry_into_box'].value_counts()\n"
   ],
   "metadata": {
    "collapsed": false
   }
  },
  {
   "cell_type": "code",
   "execution_count": 12,
   "outputs": [
    {
     "data": {
      "text/plain": "      eventId  minute  second  teamId     x     y  expandedMinute  period  \\\n0         2.0     0.0     0.0      32   0.0   0.0             0.0     1.0   \n1         2.0     0.0     0.0      26   0.0   0.0             0.0     1.0   \n2         3.0     0.0     0.0      32  50.0  50.0             0.0     1.0   \n3         4.0     0.0     3.0      32  33.9  59.7             0.0     1.0   \n4         3.0     0.0     6.0      26  19.9  30.3             0.0     1.0   \n...       ...     ...     ...     ...   ...   ...             ...     ...   \n1587  11655.0    85.0     NaN      32  77.3  87.1            87.0     2.0   \n1588    697.0     0.0     0.0      32   0.0   0.0             5.0     NaN   \n1589    879.0     0.0     0.0      26   0.0   0.0             5.0     NaN   \n1590      1.0     0.0     0.0      26   0.0   0.0             0.0     NaN   \n1591      1.0     0.0     0.0      32   0.0   0.0             0.0     NaN   \n\n     type   outcomeType  ... cumulative_mins   index            id  \\\n0     NaN    Successful  ...            0.00     0.0  2.516083e+09   \n1     NaN    Successful  ...            0.00     1.0  2.516083e+09   \n2     NaN    Successful  ...            0.00     2.0  2.516083e+09   \n3     NaN  Unsuccessful  ...            0.05     3.0  2.516083e+09   \n4     NaN    Successful  ...            0.10     4.0  2.516083e+09   \n...   ...           ...  ...             ...     ...           ...   \n1587  NaN  Unsuccessful  ...             NaN  1311.0  2.516165e+09   \n1588  NaN    Successful  ...            0.00  1417.0  2.516160e+09   \n1589  NaN    Successful  ...            0.00  1418.0  2.516160e+09   \n1590  NaN    Successful  ...            0.00  1419.0  2.516027e+09   \n1591  NaN    Successful  ...            0.00  1420.0  2.516027e+09   \n\n             match_string  team_name  Venue   xThreat  xThreat_gen  \\\n0     Liverpool - Man Utd    Man Utd   Away       NaN          NaN   \n1     Liverpool - Man Utd  Liverpool   Home       NaN          NaN   \n2     Liverpool - Man Utd    Man Utd   Away -0.004143     0.000000   \n3     Liverpool - Man Utd    Man Utd   Away       NaN          NaN   \n4     Liverpool - Man Utd  Liverpool   Home  0.001418     0.001418   \n...                   ...        ...    ...       ...          ...   \n1587  Liverpool - Man Utd    Man Utd   Away       NaN          NaN   \n1588  Liverpool - Man Utd    Man Utd   Away       NaN          NaN   \n1589  Liverpool - Man Utd  Liverpool   Home       NaN          NaN   \n1590  Liverpool - Man Utd  Liverpool   Home       NaN          NaN   \n1591  Liverpool - Man Utd    Man Utd   Away       NaN          NaN   \n\n              playerName  is_carry_into_box  \n0                Unknown                NaN  \n1                Unknown                NaN  \n2                   Fred                NaN  \n3      Lisandro Martínez                NaN  \n4        Ibrahima Konaté                NaN  \n...                  ...                ...  \n1587  Alejandro Garnacho                NaN  \n1588             Unknown                NaN  \n1589             Unknown                NaN  \n1590             Unknown                NaN  \n1591             Unknown                NaN  \n\n[1592 rows x 38 columns]",
      "text/html": "<div>\n<style scoped>\n    .dataframe tbody tr th:only-of-type {\n        vertical-align: middle;\n    }\n\n    .dataframe tbody tr th {\n        vertical-align: top;\n    }\n\n    .dataframe thead th {\n        text-align: right;\n    }\n</style>\n<table border=\"1\" class=\"dataframe\">\n  <thead>\n    <tr style=\"text-align: right;\">\n      <th></th>\n      <th>eventId</th>\n      <th>minute</th>\n      <th>second</th>\n      <th>teamId</th>\n      <th>x</th>\n      <th>y</th>\n      <th>expandedMinute</th>\n      <th>period</th>\n      <th>type</th>\n      <th>outcomeType</th>\n      <th>...</th>\n      <th>cumulative_mins</th>\n      <th>index</th>\n      <th>id</th>\n      <th>match_string</th>\n      <th>team_name</th>\n      <th>Venue</th>\n      <th>xThreat</th>\n      <th>xThreat_gen</th>\n      <th>playerName</th>\n      <th>is_carry_into_box</th>\n    </tr>\n  </thead>\n  <tbody>\n    <tr>\n      <th>0</th>\n      <td>2.0</td>\n      <td>0.0</td>\n      <td>0.0</td>\n      <td>32</td>\n      <td>0.0</td>\n      <td>0.0</td>\n      <td>0.0</td>\n      <td>1.0</td>\n      <td>NaN</td>\n      <td>Successful</td>\n      <td>...</td>\n      <td>0.00</td>\n      <td>0.0</td>\n      <td>2.516083e+09</td>\n      <td>Liverpool - Man Utd</td>\n      <td>Man Utd</td>\n      <td>Away</td>\n      <td>NaN</td>\n      <td>NaN</td>\n      <td>Unknown</td>\n      <td>NaN</td>\n    </tr>\n    <tr>\n      <th>1</th>\n      <td>2.0</td>\n      <td>0.0</td>\n      <td>0.0</td>\n      <td>26</td>\n      <td>0.0</td>\n      <td>0.0</td>\n      <td>0.0</td>\n      <td>1.0</td>\n      <td>NaN</td>\n      <td>Successful</td>\n      <td>...</td>\n      <td>0.00</td>\n      <td>1.0</td>\n      <td>2.516083e+09</td>\n      <td>Liverpool - Man Utd</td>\n      <td>Liverpool</td>\n      <td>Home</td>\n      <td>NaN</td>\n      <td>NaN</td>\n      <td>Unknown</td>\n      <td>NaN</td>\n    </tr>\n    <tr>\n      <th>2</th>\n      <td>3.0</td>\n      <td>0.0</td>\n      <td>0.0</td>\n      <td>32</td>\n      <td>50.0</td>\n      <td>50.0</td>\n      <td>0.0</td>\n      <td>1.0</td>\n      <td>NaN</td>\n      <td>Successful</td>\n      <td>...</td>\n      <td>0.00</td>\n      <td>2.0</td>\n      <td>2.516083e+09</td>\n      <td>Liverpool - Man Utd</td>\n      <td>Man Utd</td>\n      <td>Away</td>\n      <td>-0.004143</td>\n      <td>0.000000</td>\n      <td>Fred</td>\n      <td>NaN</td>\n    </tr>\n    <tr>\n      <th>3</th>\n      <td>4.0</td>\n      <td>0.0</td>\n      <td>3.0</td>\n      <td>32</td>\n      <td>33.9</td>\n      <td>59.7</td>\n      <td>0.0</td>\n      <td>1.0</td>\n      <td>NaN</td>\n      <td>Unsuccessful</td>\n      <td>...</td>\n      <td>0.05</td>\n      <td>3.0</td>\n      <td>2.516083e+09</td>\n      <td>Liverpool - Man Utd</td>\n      <td>Man Utd</td>\n      <td>Away</td>\n      <td>NaN</td>\n      <td>NaN</td>\n      <td>Lisandro Martínez</td>\n      <td>NaN</td>\n    </tr>\n    <tr>\n      <th>4</th>\n      <td>3.0</td>\n      <td>0.0</td>\n      <td>6.0</td>\n      <td>26</td>\n      <td>19.9</td>\n      <td>30.3</td>\n      <td>0.0</td>\n      <td>1.0</td>\n      <td>NaN</td>\n      <td>Successful</td>\n      <td>...</td>\n      <td>0.10</td>\n      <td>4.0</td>\n      <td>2.516083e+09</td>\n      <td>Liverpool - Man Utd</td>\n      <td>Liverpool</td>\n      <td>Home</td>\n      <td>0.001418</td>\n      <td>0.001418</td>\n      <td>Ibrahima Konaté</td>\n      <td>NaN</td>\n    </tr>\n    <tr>\n      <th>...</th>\n      <td>...</td>\n      <td>...</td>\n      <td>...</td>\n      <td>...</td>\n      <td>...</td>\n      <td>...</td>\n      <td>...</td>\n      <td>...</td>\n      <td>...</td>\n      <td>...</td>\n      <td>...</td>\n      <td>...</td>\n      <td>...</td>\n      <td>...</td>\n      <td>...</td>\n      <td>...</td>\n      <td>...</td>\n      <td>...</td>\n      <td>...</td>\n      <td>...</td>\n      <td>...</td>\n    </tr>\n    <tr>\n      <th>1587</th>\n      <td>11655.0</td>\n      <td>85.0</td>\n      <td>NaN</td>\n      <td>32</td>\n      <td>77.3</td>\n      <td>87.1</td>\n      <td>87.0</td>\n      <td>2.0</td>\n      <td>NaN</td>\n      <td>Unsuccessful</td>\n      <td>...</td>\n      <td>NaN</td>\n      <td>1311.0</td>\n      <td>2.516165e+09</td>\n      <td>Liverpool - Man Utd</td>\n      <td>Man Utd</td>\n      <td>Away</td>\n      <td>NaN</td>\n      <td>NaN</td>\n      <td>Alejandro Garnacho</td>\n      <td>NaN</td>\n    </tr>\n    <tr>\n      <th>1588</th>\n      <td>697.0</td>\n      <td>0.0</td>\n      <td>0.0</td>\n      <td>32</td>\n      <td>0.0</td>\n      <td>0.0</td>\n      <td>5.0</td>\n      <td>NaN</td>\n      <td>NaN</td>\n      <td>Successful</td>\n      <td>...</td>\n      <td>0.00</td>\n      <td>1417.0</td>\n      <td>2.516160e+09</td>\n      <td>Liverpool - Man Utd</td>\n      <td>Man Utd</td>\n      <td>Away</td>\n      <td>NaN</td>\n      <td>NaN</td>\n      <td>Unknown</td>\n      <td>NaN</td>\n    </tr>\n    <tr>\n      <th>1589</th>\n      <td>879.0</td>\n      <td>0.0</td>\n      <td>0.0</td>\n      <td>26</td>\n      <td>0.0</td>\n      <td>0.0</td>\n      <td>5.0</td>\n      <td>NaN</td>\n      <td>NaN</td>\n      <td>Successful</td>\n      <td>...</td>\n      <td>0.00</td>\n      <td>1418.0</td>\n      <td>2.516160e+09</td>\n      <td>Liverpool - Man Utd</td>\n      <td>Liverpool</td>\n      <td>Home</td>\n      <td>NaN</td>\n      <td>NaN</td>\n      <td>Unknown</td>\n      <td>NaN</td>\n    </tr>\n    <tr>\n      <th>1590</th>\n      <td>1.0</td>\n      <td>0.0</td>\n      <td>0.0</td>\n      <td>26</td>\n      <td>0.0</td>\n      <td>0.0</td>\n      <td>0.0</td>\n      <td>NaN</td>\n      <td>NaN</td>\n      <td>Successful</td>\n      <td>...</td>\n      <td>0.00</td>\n      <td>1419.0</td>\n      <td>2.516027e+09</td>\n      <td>Liverpool - Man Utd</td>\n      <td>Liverpool</td>\n      <td>Home</td>\n      <td>NaN</td>\n      <td>NaN</td>\n      <td>Unknown</td>\n      <td>NaN</td>\n    </tr>\n    <tr>\n      <th>1591</th>\n      <td>1.0</td>\n      <td>0.0</td>\n      <td>0.0</td>\n      <td>32</td>\n      <td>0.0</td>\n      <td>0.0</td>\n      <td>0.0</td>\n      <td>NaN</td>\n      <td>NaN</td>\n      <td>Successful</td>\n      <td>...</td>\n      <td>0.00</td>\n      <td>1420.0</td>\n      <td>2.516027e+09</td>\n      <td>Liverpool - Man Utd</td>\n      <td>Man Utd</td>\n      <td>Away</td>\n      <td>NaN</td>\n      <td>NaN</td>\n      <td>Unknown</td>\n      <td>NaN</td>\n    </tr>\n  </tbody>\n</table>\n<p>1592 rows × 38 columns</p>\n</div>"
     },
     "execution_count": 12,
     "metadata": {},
     "output_type": "execute_result"
    }
   ],
   "source": [],
   "metadata": {
    "collapsed": false
   }
  },
  {
   "cell_type": "markdown",
   "source": [],
   "metadata": {
    "collapsed": false
   }
  },
  {
   "cell_type": "code",
   "execution_count": 19,
   "outputs": [],
   "source": [
    "data['is_pass_into_box'] = data.apply(ws_custom_events.pass_into_box, axis=1)\n"
   ],
   "metadata": {
    "collapsed": false
   }
  },
  {
   "cell_type": "code",
   "execution_count": 20,
   "outputs": [],
   "source": [
    "data['progressive_carry'] = data.apply(ws_custom_events.progressive_carry, axis=1)"
   ],
   "metadata": {
    "collapsed": false
   }
  },
  {
   "cell_type": "code",
   "execution_count": 22,
   "outputs": [
    {
     "data": {
      "text/plain": "True    16\nName: progressive_carry, dtype: int64"
     },
     "execution_count": 22,
     "metadata": {},
     "output_type": "execute_result"
    }
   ],
   "source": [
    "data['progressive_carry'].value_counts()"
   ],
   "metadata": {
    "collapsed": false
   }
  },
  {
   "cell_type": "code",
   "execution_count": 68,
   "outputs": [],
   "source": [
    "def find_defensive_actions(events_df):\n",
    "    \"\"\" Return dataframe of in-play defensive actions from event data.\n",
    "\n",
    "    Function to find all in-play defensive actions within a whscored-style events dataframe (single or multiple\n",
    "    matches), and return as a new dataframe.\n",
    "\n",
    "    Args:\n",
    "        events_df (pandas.DataFrame): whoscored-style dataframe of event data. Events can be from multiple matches.\n",
    "\n",
    "    Returns:\n",
    "        pandas.DataFrame: whoscored-style dataframe of defensive actions.\n",
    "    \"\"\"\n",
    "\n",
    "    # Define and filter defensive events\n",
    "    defensive_actions = ['BallRecovery', 'BlockedPass', 'Challenge', 'Clearance', 'Foul', 'Interception', 'Tackle',\n",
    "                         'Claim', 'KeeperPickup', 'Punch', 'Save']\n",
    "    defensive_action_df = events_df[events_df['event_type'].isin(defensive_actions)]\n",
    "\n",
    "    # Add a new column indicating whether each defensive action is true or false\n",
    "    defensive_action_df['defensive_action'] = True\n",
    "\n",
    "    return defensive_action_df\n"
   ],
   "metadata": {
    "collapsed": false
   }
  },
  {
   "cell_type": "code",
   "execution_count": 70,
   "outputs": [],
   "source": [
    "def find_offensive_actions(events_df):\n",
    "    \"\"\" Return dataframe of in-play offensive actions from event data.\n",
    "\n",
    "    Function to find all in-play offensive actions within a whoscored-style events dataframe (single or multiple\n",
    "    matches), and return as a new dataframe.\n",
    "\n",
    "    Args:\n",
    "        events_df (pandas.DataFrame): whoscored-style dataframe of event data. Events can be from multiple matches.\n",
    "\n",
    "    Returns:\n",
    "        pandas.DataFrame: whoscored-style dataframe of offensive actions.\n",
    "    \"\"\"\n",
    "\n",
    "    # Define and filter offensive events\n",
    "    offensive_actions = [ 'TakeOn',  'OffsidePass', 'MissedShots', 'SavedShot', 'Goal', 'Carry']\n",
    "    offensive_action_df = events_df[events_df['event_type'].isin(offensive_actions)]\n",
    "\n",
    "    offensive_action_df['offensive_actions'] = True\n",
    "\n",
    "\n",
    "    return offensive_action_df"
   ],
   "metadata": {
    "collapsed": false
   }
  },
  {
   "cell_type": "code",
   "execution_count": 71,
   "outputs": [
    {
     "name": "stderr",
     "output_type": "stream",
     "text": [
      "/var/folders/vp/bmgsm3216fg61zdd22k8n6jw0000gn/T/ipykernel_64620/1503050546.py:18: SettingWithCopyWarning: \n",
      "A value is trying to be set on a copy of a slice from a DataFrame.\n",
      "Try using .loc[row_indexer,col_indexer] = value instead\n",
      "\n",
      "See the caveats in the documentation: https://pandas.pydata.org/pandas-docs/stable/user_guide/indexing.html#returning-a-view-versus-a-copy\n",
      "  offensive_action_df['offensive_actions'] = True\n"
     ]
    },
    {
     "data": {
      "text/plain": "      eventId  minute  second  teamId     x     y  expandedMinute  period  \\\n48       32.5     2.0    33.5      26  70.9  16.7             2.0     1.0   \n50       33.5     2.0    36.5      26  85.2   3.5             2.0     1.0   \n52       35.0     2.0    40.0      26  86.6  32.4             2.0     1.0   \n62       40.5     3.0    24.5      26  24.2  17.0             3.0     1.0   \n84       51.5     4.0    23.0      26  79.5  68.4             4.0     1.0   \n...       ...     ...     ...     ...   ...   ...             ...     ...   \n1555    858.5    91.0    41.0      26  80.8  83.8            93.0     2.0   \n1558    860.5    91.0    49.0      26  70.8  72.6            93.0     2.0   \n1562    863.5    91.0    55.0      26  74.1  89.4            93.0     2.0   \n1572    868.5    92.0    12.5      26  27.7  51.5            94.0     2.0   \n1574    869.5    92.0    16.5      26  63.5  97.4            94.0     2.0   \n\n                                       type outcomeType  ... xThreat_gen  \\\n48    {'value': 99, 'displayName': 'Carry'}  Successful  ...    0.002426   \n50    {'value': 99, 'displayName': 'Carry'}  Successful  ...    0.008566   \n52                                      NaN  Successful  ...         NaN   \n62    {'value': 99, 'displayName': 'Carry'}  Successful  ...    0.000947   \n84    {'value': 99, 'displayName': 'Carry'}  Successful  ...    0.074598   \n...                                     ...         ...  ...         ...   \n1555  {'value': 99, 'displayName': 'Carry'}  Successful  ...    0.009758   \n1558  {'value': 99, 'displayName': 'Carry'}  Successful  ...    0.000000   \n1562  {'value': 99, 'displayName': 'Carry'}  Successful  ...    0.002149   \n1572  {'value': 99, 'displayName': 'Carry'}  Successful  ...    0.000302   \n1574  {'value': 99, 'displayName': 'Carry'}  Successful  ...    0.003382   \n\n            playerName  is_throw_or_corner  is_carry_into_box  is_open_play  \\\n48      Harvey Elliott               False                NaN          True   \n50       Mohamed Salah               False                NaN          True   \n52      Harvey Elliott               False                NaN          True   \n62             Fabinho               False                NaN          True   \n84       Mohamed Salah               False               True          True   \n...                ...                 ...                ...           ...   \n1555      James Milner               False                NaN          True   \n1558   Stefan Bajcetic               False                NaN          True   \n1562      James Milner               False                NaN          True   \n1572           Alisson               False                NaN          True   \n1574  Andrew Robertson               False                NaN          True   \n\n      won_possession  is_progressive  is_pass_into_box  progressive_carry  \\\n48             False           False             False                NaN   \n50             False            True             False               True   \n52             False           False             False                NaN   \n62             False           False             False                NaN   \n84             False            True              True                NaN   \n...              ...             ...               ...                ...   \n1555           False           False             False                NaN   \n1558           False           False             False                NaN   \n1562           False           False             False                NaN   \n1572           False           False             False                NaN   \n1574           False           False             False                NaN   \n\n      offensive_actions  \n48                 True  \n50                 True  \n52                 True  \n62                 True  \n84                 True  \n...                 ...  \n1555               True  \n1558               True  \n1562               True  \n1572               True  \n1574               True  \n\n[239 rows x 45 columns]",
      "text/html": "<div>\n<style scoped>\n    .dataframe tbody tr th:only-of-type {\n        vertical-align: middle;\n    }\n\n    .dataframe tbody tr th {\n        vertical-align: top;\n    }\n\n    .dataframe thead th {\n        text-align: right;\n    }\n</style>\n<table border=\"1\" class=\"dataframe\">\n  <thead>\n    <tr style=\"text-align: right;\">\n      <th></th>\n      <th>eventId</th>\n      <th>minute</th>\n      <th>second</th>\n      <th>teamId</th>\n      <th>x</th>\n      <th>y</th>\n      <th>expandedMinute</th>\n      <th>period</th>\n      <th>type</th>\n      <th>outcomeType</th>\n      <th>...</th>\n      <th>xThreat_gen</th>\n      <th>playerName</th>\n      <th>is_throw_or_corner</th>\n      <th>is_carry_into_box</th>\n      <th>is_open_play</th>\n      <th>won_possession</th>\n      <th>is_progressive</th>\n      <th>is_pass_into_box</th>\n      <th>progressive_carry</th>\n      <th>offensive_actions</th>\n    </tr>\n  </thead>\n  <tbody>\n    <tr>\n      <th>48</th>\n      <td>32.5</td>\n      <td>2.0</td>\n      <td>33.5</td>\n      <td>26</td>\n      <td>70.9</td>\n      <td>16.7</td>\n      <td>2.0</td>\n      <td>1.0</td>\n      <td>{'value': 99, 'displayName': 'Carry'}</td>\n      <td>Successful</td>\n      <td>...</td>\n      <td>0.002426</td>\n      <td>Harvey Elliott</td>\n      <td>False</td>\n      <td>NaN</td>\n      <td>True</td>\n      <td>False</td>\n      <td>False</td>\n      <td>False</td>\n      <td>NaN</td>\n      <td>True</td>\n    </tr>\n    <tr>\n      <th>50</th>\n      <td>33.5</td>\n      <td>2.0</td>\n      <td>36.5</td>\n      <td>26</td>\n      <td>85.2</td>\n      <td>3.5</td>\n      <td>2.0</td>\n      <td>1.0</td>\n      <td>{'value': 99, 'displayName': 'Carry'}</td>\n      <td>Successful</td>\n      <td>...</td>\n      <td>0.008566</td>\n      <td>Mohamed Salah</td>\n      <td>False</td>\n      <td>NaN</td>\n      <td>True</td>\n      <td>False</td>\n      <td>True</td>\n      <td>False</td>\n      <td>True</td>\n      <td>True</td>\n    </tr>\n    <tr>\n      <th>52</th>\n      <td>35.0</td>\n      <td>2.0</td>\n      <td>40.0</td>\n      <td>26</td>\n      <td>86.6</td>\n      <td>32.4</td>\n      <td>2.0</td>\n      <td>1.0</td>\n      <td>NaN</td>\n      <td>Successful</td>\n      <td>...</td>\n      <td>NaN</td>\n      <td>Harvey Elliott</td>\n      <td>False</td>\n      <td>NaN</td>\n      <td>True</td>\n      <td>False</td>\n      <td>False</td>\n      <td>False</td>\n      <td>NaN</td>\n      <td>True</td>\n    </tr>\n    <tr>\n      <th>62</th>\n      <td>40.5</td>\n      <td>3.0</td>\n      <td>24.5</td>\n      <td>26</td>\n      <td>24.2</td>\n      <td>17.0</td>\n      <td>3.0</td>\n      <td>1.0</td>\n      <td>{'value': 99, 'displayName': 'Carry'}</td>\n      <td>Successful</td>\n      <td>...</td>\n      <td>0.000947</td>\n      <td>Fabinho</td>\n      <td>False</td>\n      <td>NaN</td>\n      <td>True</td>\n      <td>False</td>\n      <td>False</td>\n      <td>False</td>\n      <td>NaN</td>\n      <td>True</td>\n    </tr>\n    <tr>\n      <th>84</th>\n      <td>51.5</td>\n      <td>4.0</td>\n      <td>23.0</td>\n      <td>26</td>\n      <td>79.5</td>\n      <td>68.4</td>\n      <td>4.0</td>\n      <td>1.0</td>\n      <td>{'value': 99, 'displayName': 'Carry'}</td>\n      <td>Successful</td>\n      <td>...</td>\n      <td>0.074598</td>\n      <td>Mohamed Salah</td>\n      <td>False</td>\n      <td>True</td>\n      <td>True</td>\n      <td>False</td>\n      <td>True</td>\n      <td>True</td>\n      <td>NaN</td>\n      <td>True</td>\n    </tr>\n    <tr>\n      <th>...</th>\n      <td>...</td>\n      <td>...</td>\n      <td>...</td>\n      <td>...</td>\n      <td>...</td>\n      <td>...</td>\n      <td>...</td>\n      <td>...</td>\n      <td>...</td>\n      <td>...</td>\n      <td>...</td>\n      <td>...</td>\n      <td>...</td>\n      <td>...</td>\n      <td>...</td>\n      <td>...</td>\n      <td>...</td>\n      <td>...</td>\n      <td>...</td>\n      <td>...</td>\n      <td>...</td>\n    </tr>\n    <tr>\n      <th>1555</th>\n      <td>858.5</td>\n      <td>91.0</td>\n      <td>41.0</td>\n      <td>26</td>\n      <td>80.8</td>\n      <td>83.8</td>\n      <td>93.0</td>\n      <td>2.0</td>\n      <td>{'value': 99, 'displayName': 'Carry'}</td>\n      <td>Successful</td>\n      <td>...</td>\n      <td>0.009758</td>\n      <td>James Milner</td>\n      <td>False</td>\n      <td>NaN</td>\n      <td>True</td>\n      <td>False</td>\n      <td>False</td>\n      <td>False</td>\n      <td>NaN</td>\n      <td>True</td>\n    </tr>\n    <tr>\n      <th>1558</th>\n      <td>860.5</td>\n      <td>91.0</td>\n      <td>49.0</td>\n      <td>26</td>\n      <td>70.8</td>\n      <td>72.6</td>\n      <td>93.0</td>\n      <td>2.0</td>\n      <td>{'value': 99, 'displayName': 'Carry'}</td>\n      <td>Successful</td>\n      <td>...</td>\n      <td>0.000000</td>\n      <td>Stefan Bajcetic</td>\n      <td>False</td>\n      <td>NaN</td>\n      <td>True</td>\n      <td>False</td>\n      <td>False</td>\n      <td>False</td>\n      <td>NaN</td>\n      <td>True</td>\n    </tr>\n    <tr>\n      <th>1562</th>\n      <td>863.5</td>\n      <td>91.0</td>\n      <td>55.0</td>\n      <td>26</td>\n      <td>74.1</td>\n      <td>89.4</td>\n      <td>93.0</td>\n      <td>2.0</td>\n      <td>{'value': 99, 'displayName': 'Carry'}</td>\n      <td>Successful</td>\n      <td>...</td>\n      <td>0.002149</td>\n      <td>James Milner</td>\n      <td>False</td>\n      <td>NaN</td>\n      <td>True</td>\n      <td>False</td>\n      <td>False</td>\n      <td>False</td>\n      <td>NaN</td>\n      <td>True</td>\n    </tr>\n    <tr>\n      <th>1572</th>\n      <td>868.5</td>\n      <td>92.0</td>\n      <td>12.5</td>\n      <td>26</td>\n      <td>27.7</td>\n      <td>51.5</td>\n      <td>94.0</td>\n      <td>2.0</td>\n      <td>{'value': 99, 'displayName': 'Carry'}</td>\n      <td>Successful</td>\n      <td>...</td>\n      <td>0.000302</td>\n      <td>Alisson</td>\n      <td>False</td>\n      <td>NaN</td>\n      <td>True</td>\n      <td>False</td>\n      <td>False</td>\n      <td>False</td>\n      <td>NaN</td>\n      <td>True</td>\n    </tr>\n    <tr>\n      <th>1574</th>\n      <td>869.5</td>\n      <td>92.0</td>\n      <td>16.5</td>\n      <td>26</td>\n      <td>63.5</td>\n      <td>97.4</td>\n      <td>94.0</td>\n      <td>2.0</td>\n      <td>{'value': 99, 'displayName': 'Carry'}</td>\n      <td>Successful</td>\n      <td>...</td>\n      <td>0.003382</td>\n      <td>Andrew Robertson</td>\n      <td>False</td>\n      <td>NaN</td>\n      <td>True</td>\n      <td>False</td>\n      <td>False</td>\n      <td>False</td>\n      <td>NaN</td>\n      <td>True</td>\n    </tr>\n  </tbody>\n</table>\n<p>239 rows × 45 columns</p>\n</div>"
     },
     "execution_count": 71,
     "metadata": {},
     "output_type": "execute_result"
    }
   ],
   "source": [
    "find_offensive_actions(data)"
   ],
   "metadata": {
    "collapsed": false
   }
  },
  {
   "cell_type": "code",
   "execution_count": 23,
   "outputs": [],
   "source": [
    "data.to_csv('./Data/liverpool03_11_23.csv')"
   ],
   "metadata": {
    "collapsed": false
   }
  },
  {
   "cell_type": "code",
   "execution_count": 75,
   "outputs": [
    {
     "ename": "TypeError",
     "evalue": "Cannot reset_index inplace on a Series to create a DataFrame",
     "output_type": "error",
     "traceback": [
      "\u001B[0;31m---------------------------------------------------------------------------\u001B[0m",
      "\u001B[0;31mTypeError\u001B[0m                                 Traceback (most recent call last)",
      "Cell \u001B[0;32mIn [75], line 1\u001B[0m\n\u001B[0;32m----> 1\u001B[0m data1[\u001B[38;5;124m'\u001B[39m\u001B[38;5;124mpre_assist\u001B[39m\u001B[38;5;124m'\u001B[39m] \u001B[38;5;241m=\u001B[39m \u001B[43mdata\u001B[49m\u001B[38;5;241;43m.\u001B[39;49m\u001B[43mapply\u001B[49m\u001B[43m(\u001B[49m\u001B[43mws_custom_events\u001B[49m\u001B[38;5;241;43m.\u001B[39;49m\u001B[43mpre_assist\u001B[49m\u001B[43m,\u001B[49m\u001B[43m \u001B[49m\u001B[43maxis\u001B[49m\u001B[38;5;241;43m=\u001B[39;49m\u001B[38;5;241;43m1\u001B[39;49m\u001B[43m)\u001B[49m\n",
      "File \u001B[0;32m~/Documents/Coding Projects/lib/python3.9/site-packages/pandas/core/frame.py:9555\u001B[0m, in \u001B[0;36mDataFrame.apply\u001B[0;34m(self, func, axis, raw, result_type, args, **kwargs)\u001B[0m\n\u001B[1;32m   9544\u001B[0m \u001B[38;5;28;01mfrom\u001B[39;00m \u001B[38;5;21;01mpandas\u001B[39;00m\u001B[38;5;21;01m.\u001B[39;00m\u001B[38;5;21;01mcore\u001B[39;00m\u001B[38;5;21;01m.\u001B[39;00m\u001B[38;5;21;01mapply\u001B[39;00m \u001B[38;5;28;01mimport\u001B[39;00m frame_apply\n\u001B[1;32m   9546\u001B[0m op \u001B[38;5;241m=\u001B[39m frame_apply(\n\u001B[1;32m   9547\u001B[0m     \u001B[38;5;28mself\u001B[39m,\n\u001B[1;32m   9548\u001B[0m     func\u001B[38;5;241m=\u001B[39mfunc,\n\u001B[0;32m   (...)\u001B[0m\n\u001B[1;32m   9553\u001B[0m     kwargs\u001B[38;5;241m=\u001B[39mkwargs,\n\u001B[1;32m   9554\u001B[0m )\n\u001B[0;32m-> 9555\u001B[0m \u001B[38;5;28;01mreturn\u001B[39;00m \u001B[43mop\u001B[49m\u001B[38;5;241;43m.\u001B[39;49m\u001B[43mapply\u001B[49m\u001B[43m(\u001B[49m\u001B[43m)\u001B[49m\u001B[38;5;241m.\u001B[39m__finalize__(\u001B[38;5;28mself\u001B[39m, method\u001B[38;5;241m=\u001B[39m\u001B[38;5;124m\"\u001B[39m\u001B[38;5;124mapply\u001B[39m\u001B[38;5;124m\"\u001B[39m)\n",
      "File \u001B[0;32m~/Documents/Coding Projects/lib/python3.9/site-packages/pandas/core/apply.py:746\u001B[0m, in \u001B[0;36mFrameApply.apply\u001B[0;34m(self)\u001B[0m\n\u001B[1;32m    743\u001B[0m \u001B[38;5;28;01melif\u001B[39;00m \u001B[38;5;28mself\u001B[39m\u001B[38;5;241m.\u001B[39mraw:\n\u001B[1;32m    744\u001B[0m     \u001B[38;5;28;01mreturn\u001B[39;00m \u001B[38;5;28mself\u001B[39m\u001B[38;5;241m.\u001B[39mapply_raw()\n\u001B[0;32m--> 746\u001B[0m \u001B[38;5;28;01mreturn\u001B[39;00m \u001B[38;5;28;43mself\u001B[39;49m\u001B[38;5;241;43m.\u001B[39;49m\u001B[43mapply_standard\u001B[49m\u001B[43m(\u001B[49m\u001B[43m)\u001B[49m\n",
      "File \u001B[0;32m~/Documents/Coding Projects/lib/python3.9/site-packages/pandas/core/apply.py:873\u001B[0m, in \u001B[0;36mFrameApply.apply_standard\u001B[0;34m(self)\u001B[0m\n\u001B[1;32m    872\u001B[0m \u001B[38;5;28;01mdef\u001B[39;00m \u001B[38;5;21mapply_standard\u001B[39m(\u001B[38;5;28mself\u001B[39m):\n\u001B[0;32m--> 873\u001B[0m     results, res_index \u001B[38;5;241m=\u001B[39m \u001B[38;5;28;43mself\u001B[39;49m\u001B[38;5;241;43m.\u001B[39;49m\u001B[43mapply_series_generator\u001B[49m\u001B[43m(\u001B[49m\u001B[43m)\u001B[49m\n\u001B[1;32m    875\u001B[0m     \u001B[38;5;66;03m# wrap results\u001B[39;00m\n\u001B[1;32m    876\u001B[0m     \u001B[38;5;28;01mreturn\u001B[39;00m \u001B[38;5;28mself\u001B[39m\u001B[38;5;241m.\u001B[39mwrap_results(results, res_index)\n",
      "File \u001B[0;32m~/Documents/Coding Projects/lib/python3.9/site-packages/pandas/core/apply.py:889\u001B[0m, in \u001B[0;36mFrameApply.apply_series_generator\u001B[0;34m(self)\u001B[0m\n\u001B[1;32m    886\u001B[0m \u001B[38;5;28;01mwith\u001B[39;00m option_context(\u001B[38;5;124m\"\u001B[39m\u001B[38;5;124mmode.chained_assignment\u001B[39m\u001B[38;5;124m\"\u001B[39m, \u001B[38;5;28;01mNone\u001B[39;00m):\n\u001B[1;32m    887\u001B[0m     \u001B[38;5;28;01mfor\u001B[39;00m i, v \u001B[38;5;129;01min\u001B[39;00m \u001B[38;5;28menumerate\u001B[39m(series_gen):\n\u001B[1;32m    888\u001B[0m         \u001B[38;5;66;03m# ignore SettingWithCopy here in case the user mutates\u001B[39;00m\n\u001B[0;32m--> 889\u001B[0m         results[i] \u001B[38;5;241m=\u001B[39m \u001B[38;5;28;43mself\u001B[39;49m\u001B[38;5;241;43m.\u001B[39;49m\u001B[43mf\u001B[49m\u001B[43m(\u001B[49m\u001B[43mv\u001B[49m\u001B[43m)\u001B[49m\n\u001B[1;32m    890\u001B[0m         \u001B[38;5;28;01mif\u001B[39;00m \u001B[38;5;28misinstance\u001B[39m(results[i], ABCSeries):\n\u001B[1;32m    891\u001B[0m             \u001B[38;5;66;03m# If we have a view on v, we need to make a copy because\u001B[39;00m\n\u001B[1;32m    892\u001B[0m             \u001B[38;5;66;03m#  series_generator will swap out the underlying data\u001B[39;00m\n\u001B[1;32m    893\u001B[0m             results[i] \u001B[38;5;241m=\u001B[39m results[i]\u001B[38;5;241m.\u001B[39mcopy(deep\u001B[38;5;241m=\u001B[39m\u001B[38;5;28;01mFalse\u001B[39;00m)\n",
      "File \u001B[0;32m~/Documents/Coding Projects/Soccer Coding Projects/Football_Anal/analysis_tools/whoscored_custom_events.py:57\u001B[0m, in \u001B[0;36mpre_assist\u001B[0;34m(events)\u001B[0m\n\u001B[1;32m     55\u001B[0m \u001B[38;5;66;03m# Initialise dataframe and new column\u001B[39;00m\n\u001B[1;32m     56\u001B[0m events_out \u001B[38;5;241m=\u001B[39m events\u001B[38;5;241m.\u001B[39mcopy()\n\u001B[0;32m---> 57\u001B[0m \u001B[43mevents_out\u001B[49m\u001B[38;5;241;43m.\u001B[39;49m\u001B[43mreset_index\u001B[49m\u001B[43m(\u001B[49m\u001B[43minplace\u001B[49m\u001B[38;5;241;43m=\u001B[39;49m\u001B[38;5;28;43;01mTrue\u001B[39;49;00m\u001B[43m)\u001B[49m\n\u001B[1;32m     58\u001B[0m events_out[\u001B[38;5;124m'\u001B[39m\u001B[38;5;124mpre_assist\u001B[39m\u001B[38;5;124m'\u001B[39m] \u001B[38;5;241m=\u001B[39m \u001B[38;5;28mfloat\u001B[39m(\u001B[38;5;124m'\u001B[39m\u001B[38;5;124mnan\u001B[39m\u001B[38;5;124m'\u001B[39m)\n\u001B[1;32m     60\u001B[0m \u001B[38;5;28;01mfor\u001B[39;00m idx, assist_event \u001B[38;5;129;01min\u001B[39;00m events_out[events_out[\u001B[38;5;124m'\u001B[39m\u001B[38;5;124msatisfiedEventsTypes\u001B[39m\u001B[38;5;124m'\u001B[39m]\u001B[38;5;241m.\u001B[39mapply(\u001B[38;5;28;01mlambda\u001B[39;00m x: \u001B[38;5;241m92\u001B[39m \u001B[38;5;129;01min\u001B[39;00m x \u001B[38;5;28;01mif\u001B[39;00m x \u001B[38;5;241m==\u001B[39m x \u001B[38;5;28;01melse\u001B[39;00m \u001B[38;5;28;01mFalse\u001B[39;00m)]\u001B[38;5;241m.\u001B[39miterrows():\n\u001B[1;32m     61\u001B[0m \n\u001B[1;32m     62\u001B[0m     \u001B[38;5;66;03m# Obtain name of assister and numerical identifier of period\u001B[39;00m\n",
      "File \u001B[0;32m~/Documents/Coding Projects/lib/python3.9/site-packages/pandas/util/_decorators.py:331\u001B[0m, in \u001B[0;36mdeprecate_nonkeyword_arguments.<locals>.decorate.<locals>.wrapper\u001B[0;34m(*args, **kwargs)\u001B[0m\n\u001B[1;32m    325\u001B[0m \u001B[38;5;28;01mif\u001B[39;00m \u001B[38;5;28mlen\u001B[39m(args) \u001B[38;5;241m>\u001B[39m num_allow_args:\n\u001B[1;32m    326\u001B[0m     warnings\u001B[38;5;241m.\u001B[39mwarn(\n\u001B[1;32m    327\u001B[0m         msg\u001B[38;5;241m.\u001B[39mformat(arguments\u001B[38;5;241m=\u001B[39m_format_argument_list(allow_args)),\n\u001B[1;32m    328\u001B[0m         \u001B[38;5;167;01mFutureWarning\u001B[39;00m,\n\u001B[1;32m    329\u001B[0m         stacklevel\u001B[38;5;241m=\u001B[39mfind_stack_level(),\n\u001B[1;32m    330\u001B[0m     )\n\u001B[0;32m--> 331\u001B[0m \u001B[38;5;28;01mreturn\u001B[39;00m \u001B[43mfunc\u001B[49m\u001B[43m(\u001B[49m\u001B[38;5;241;43m*\u001B[39;49m\u001B[43margs\u001B[49m\u001B[43m,\u001B[49m\u001B[43m \u001B[49m\u001B[38;5;241;43m*\u001B[39;49m\u001B[38;5;241;43m*\u001B[39;49m\u001B[43mkwargs\u001B[49m\u001B[43m)\u001B[49m\n",
      "File \u001B[0;32m~/Documents/Coding Projects/lib/python3.9/site-packages/pandas/core/series.py:1568\u001B[0m, in \u001B[0;36mSeries.reset_index\u001B[0;34m(self, level, drop, name, inplace, allow_duplicates)\u001B[0m\n\u001B[1;32m   1564\u001B[0m         \u001B[38;5;28;01mreturn\u001B[39;00m \u001B[38;5;28mself\u001B[39m\u001B[38;5;241m.\u001B[39m_constructor(\n\u001B[1;32m   1565\u001B[0m             \u001B[38;5;28mself\u001B[39m\u001B[38;5;241m.\u001B[39m_values\u001B[38;5;241m.\u001B[39mcopy(), index\u001B[38;5;241m=\u001B[39mnew_index\n\u001B[1;32m   1566\u001B[0m         )\u001B[38;5;241m.\u001B[39m__finalize__(\u001B[38;5;28mself\u001B[39m, method\u001B[38;5;241m=\u001B[39m\u001B[38;5;124m\"\u001B[39m\u001B[38;5;124mreset_index\u001B[39m\u001B[38;5;124m\"\u001B[39m)\n\u001B[1;32m   1567\u001B[0m \u001B[38;5;28;01melif\u001B[39;00m inplace:\n\u001B[0;32m-> 1568\u001B[0m     \u001B[38;5;28;01mraise\u001B[39;00m \u001B[38;5;167;01mTypeError\u001B[39;00m(\n\u001B[1;32m   1569\u001B[0m         \u001B[38;5;124m\"\u001B[39m\u001B[38;5;124mCannot reset_index inplace on a Series to create a DataFrame\u001B[39m\u001B[38;5;124m\"\u001B[39m\n\u001B[1;32m   1570\u001B[0m     )\n\u001B[1;32m   1571\u001B[0m \u001B[38;5;28;01melse\u001B[39;00m:\n\u001B[1;32m   1572\u001B[0m     \u001B[38;5;28;01mif\u001B[39;00m name \u001B[38;5;129;01mis\u001B[39;00m lib\u001B[38;5;241m.\u001B[39mno_default:\n\u001B[1;32m   1573\u001B[0m         \u001B[38;5;66;03m# For backwards compatibility, keep columns as [0] instead of\u001B[39;00m\n\u001B[1;32m   1574\u001B[0m         \u001B[38;5;66;03m#  [None] when self.name is None\u001B[39;00m\n",
      "\u001B[0;31mTypeError\u001B[0m: Cannot reset_index inplace on a Series to create a DataFrame"
     ]
    }
   ],
   "source": [
    "#data['pre_assist'] = data.apply(ws_custom_events.pre_assist, axis=1)\n"
   ],
   "metadata": {
    "collapsed": false
   }
  }
 ],
 "metadata": {
  "kernelspec": {
   "display_name": "Python 3",
   "language": "python",
   "name": "python3"
  },
  "language_info": {
   "codemirror_mode": {
    "name": "ipython",
    "version": 2
   },
   "file_extension": ".py",
   "mimetype": "text/x-python",
   "name": "python",
   "nbconvert_exporter": "python",
   "pygments_lexer": "ipython2",
   "version": "2.7.6"
  }
 },
 "nbformat": 4,
 "nbformat_minor": 0
}
