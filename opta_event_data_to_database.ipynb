{
 "cells": [
  {
   "cell_type": "code",
   "execution_count": 1,
   "outputs": [],
   "source": [
    "\n",
    "from bs4 import  BeautifulSoup\n",
    "import json\n",
    "import re\n",
    "import requests\n",
    "from bs4 import BeautifulSoup\n",
    "import pandas as pd\n",
    "import sqlite3"
   ],
   "metadata": {
    "collapsed": false
   }
  },
  {
   "cell_type": "code",
   "execution_count": 2,
   "outputs": [],
   "source": [
    "data = pd.read_csv('Data/liverpool03_15_23.csv', index_col=0, low_memory=False)"
   ],
   "metadata": {
    "collapsed": false
   }
  },
  {
   "cell_type": "code",
   "execution_count": 3,
   "outputs": [],
   "source": [
    "con = sqlite3.connect(\"Database/opta_event_data22_23.db\")\n",
    "cur = con.cursor()\n"
   ],
   "metadata": {
    "collapsed": false
   }
  },
  {
   "cell_type": "code",
   "execution_count": 4,
   "outputs": [
    {
     "data": {
      "text/plain": "      eventId  minute  second  teamId     x     y  expandedMinute  period  \\\n0         2.0     0.0     0.0      26   0.0   0.0             0.0     1.0   \n1         2.0     0.0     0.0      52   0.0   0.0             0.0     1.0   \n2         3.0     0.0     0.0      26  50.0  50.0             0.0     1.0   \n3         3.5     0.0     1.5      26  30.6  41.0             0.0     1.0   \n4         4.0     0.0     3.0      26  34.9  36.0             0.0     1.0   \n...       ...     ...     ...     ...   ...   ...             ...     ...   \n1890  11531.0    51.0     NaN      52  66.8  70.3            54.0     2.0   \n1891    910.0     0.0     0.0      52   0.0   0.0             7.0     NaN   \n1892    836.0     0.0     0.0      26   0.0   0.0             7.0     NaN   \n1893      1.0     0.0     0.0      52   0.0   0.0             0.0     NaN   \n1894      1.0     0.0     0.0      26   0.0   0.0             0.0     NaN   \n\n                                       type   outcomeType  ... Venue  \\\n0                                       NaN    Successful  ...  Away   \n1                                       NaN    Successful  ...  Home   \n2                                       NaN    Successful  ...  Away   \n3     {'value': 99, 'displayName': 'Carry'}    Successful  ...   NaN   \n4                                       NaN  Unsuccessful  ...  Away   \n...                                     ...           ...  ...   ...   \n1890                                    NaN  Unsuccessful  ...  Home   \n1891                                    NaN    Successful  ...  Home   \n1892                                    NaN    Successful  ...  Away   \n1893                                    NaN    Successful  ...  Home   \n1894                                    NaN    Successful  ...  Away   \n\n       xThreat  xThreat_gen       playerName  is_open_play  is_progressive  \\\n0          NaN          NaN          Unknown          True           False   \n1          NaN          NaN          Unknown          True           False   \n2    -0.004436     0.000000    Mohamed Salah          True           False   \n3     0.000757     0.000757  Ibrahima Konaté          True           False   \n4          NaN          NaN  Ibrahima Konaté          True           False   \n...        ...          ...              ...           ...             ...   \n1890       NaN          NaN  Vinícius Júnior          True           False   \n1891       NaN          NaN          Unknown          True           False   \n1892       NaN          NaN          Unknown          True           False   \n1893       NaN          NaN          Unknown          True           False   \n1894       NaN          NaN          Unknown          True           False   \n\n      is_pass_into_box  won_possession  is_carry_into_box  progressive_carry  \n0                  NaN           False                NaN                NaN  \n1                  NaN           False                NaN                NaN  \n2                  NaN           False                NaN                NaN  \n3                  NaN           False                NaN                NaN  \n4                  NaN           False                NaN                NaN  \n...                ...             ...                ...                ...  \n1890               NaN           False                NaN                NaN  \n1891               NaN           False                NaN                NaN  \n1892               NaN           False                NaN                NaN  \n1893               NaN           False                NaN                NaN  \n1894               NaN           False                NaN                NaN  \n\n[1895 rows x 43 columns]",
      "text/html": "<div>\n<style scoped>\n    .dataframe tbody tr th:only-of-type {\n        vertical-align: middle;\n    }\n\n    .dataframe tbody tr th {\n        vertical-align: top;\n    }\n\n    .dataframe thead th {\n        text-align: right;\n    }\n</style>\n<table border=\"1\" class=\"dataframe\">\n  <thead>\n    <tr style=\"text-align: right;\">\n      <th></th>\n      <th>eventId</th>\n      <th>minute</th>\n      <th>second</th>\n      <th>teamId</th>\n      <th>x</th>\n      <th>y</th>\n      <th>expandedMinute</th>\n      <th>period</th>\n      <th>type</th>\n      <th>outcomeType</th>\n      <th>...</th>\n      <th>Venue</th>\n      <th>xThreat</th>\n      <th>xThreat_gen</th>\n      <th>playerName</th>\n      <th>is_open_play</th>\n      <th>is_progressive</th>\n      <th>is_pass_into_box</th>\n      <th>won_possession</th>\n      <th>is_carry_into_box</th>\n      <th>progressive_carry</th>\n    </tr>\n  </thead>\n  <tbody>\n    <tr>\n      <th>0</th>\n      <td>2.0</td>\n      <td>0.0</td>\n      <td>0.0</td>\n      <td>26</td>\n      <td>0.0</td>\n      <td>0.0</td>\n      <td>0.0</td>\n      <td>1.0</td>\n      <td>NaN</td>\n      <td>Successful</td>\n      <td>...</td>\n      <td>Away</td>\n      <td>NaN</td>\n      <td>NaN</td>\n      <td>Unknown</td>\n      <td>True</td>\n      <td>False</td>\n      <td>NaN</td>\n      <td>False</td>\n      <td>NaN</td>\n      <td>NaN</td>\n    </tr>\n    <tr>\n      <th>1</th>\n      <td>2.0</td>\n      <td>0.0</td>\n      <td>0.0</td>\n      <td>52</td>\n      <td>0.0</td>\n      <td>0.0</td>\n      <td>0.0</td>\n      <td>1.0</td>\n      <td>NaN</td>\n      <td>Successful</td>\n      <td>...</td>\n      <td>Home</td>\n      <td>NaN</td>\n      <td>NaN</td>\n      <td>Unknown</td>\n      <td>True</td>\n      <td>False</td>\n      <td>NaN</td>\n      <td>False</td>\n      <td>NaN</td>\n      <td>NaN</td>\n    </tr>\n    <tr>\n      <th>2</th>\n      <td>3.0</td>\n      <td>0.0</td>\n      <td>0.0</td>\n      <td>26</td>\n      <td>50.0</td>\n      <td>50.0</td>\n      <td>0.0</td>\n      <td>1.0</td>\n      <td>NaN</td>\n      <td>Successful</td>\n      <td>...</td>\n      <td>Away</td>\n      <td>-0.004436</td>\n      <td>0.000000</td>\n      <td>Mohamed Salah</td>\n      <td>True</td>\n      <td>False</td>\n      <td>NaN</td>\n      <td>False</td>\n      <td>NaN</td>\n      <td>NaN</td>\n    </tr>\n    <tr>\n      <th>3</th>\n      <td>3.5</td>\n      <td>0.0</td>\n      <td>1.5</td>\n      <td>26</td>\n      <td>30.6</td>\n      <td>41.0</td>\n      <td>0.0</td>\n      <td>1.0</td>\n      <td>{'value': 99, 'displayName': 'Carry'}</td>\n      <td>Successful</td>\n      <td>...</td>\n      <td>NaN</td>\n      <td>0.000757</td>\n      <td>0.000757</td>\n      <td>Ibrahima Konaté</td>\n      <td>True</td>\n      <td>False</td>\n      <td>NaN</td>\n      <td>False</td>\n      <td>NaN</td>\n      <td>NaN</td>\n    </tr>\n    <tr>\n      <th>4</th>\n      <td>4.0</td>\n      <td>0.0</td>\n      <td>3.0</td>\n      <td>26</td>\n      <td>34.9</td>\n      <td>36.0</td>\n      <td>0.0</td>\n      <td>1.0</td>\n      <td>NaN</td>\n      <td>Unsuccessful</td>\n      <td>...</td>\n      <td>Away</td>\n      <td>NaN</td>\n      <td>NaN</td>\n      <td>Ibrahima Konaté</td>\n      <td>True</td>\n      <td>False</td>\n      <td>NaN</td>\n      <td>False</td>\n      <td>NaN</td>\n      <td>NaN</td>\n    </tr>\n    <tr>\n      <th>...</th>\n      <td>...</td>\n      <td>...</td>\n      <td>...</td>\n      <td>...</td>\n      <td>...</td>\n      <td>...</td>\n      <td>...</td>\n      <td>...</td>\n      <td>...</td>\n      <td>...</td>\n      <td>...</td>\n      <td>...</td>\n      <td>...</td>\n      <td>...</td>\n      <td>...</td>\n      <td>...</td>\n      <td>...</td>\n      <td>...</td>\n      <td>...</td>\n      <td>...</td>\n      <td>...</td>\n    </tr>\n    <tr>\n      <th>1890</th>\n      <td>11531.0</td>\n      <td>51.0</td>\n      <td>NaN</td>\n      <td>52</td>\n      <td>66.8</td>\n      <td>70.3</td>\n      <td>54.0</td>\n      <td>2.0</td>\n      <td>NaN</td>\n      <td>Unsuccessful</td>\n      <td>...</td>\n      <td>Home</td>\n      <td>NaN</td>\n      <td>NaN</td>\n      <td>Vinícius Júnior</td>\n      <td>True</td>\n      <td>False</td>\n      <td>NaN</td>\n      <td>False</td>\n      <td>NaN</td>\n      <td>NaN</td>\n    </tr>\n    <tr>\n      <th>1891</th>\n      <td>910.0</td>\n      <td>0.0</td>\n      <td>0.0</td>\n      <td>52</td>\n      <td>0.0</td>\n      <td>0.0</td>\n      <td>7.0</td>\n      <td>NaN</td>\n      <td>NaN</td>\n      <td>Successful</td>\n      <td>...</td>\n      <td>Home</td>\n      <td>NaN</td>\n      <td>NaN</td>\n      <td>Unknown</td>\n      <td>True</td>\n      <td>False</td>\n      <td>NaN</td>\n      <td>False</td>\n      <td>NaN</td>\n      <td>NaN</td>\n    </tr>\n    <tr>\n      <th>1892</th>\n      <td>836.0</td>\n      <td>0.0</td>\n      <td>0.0</td>\n      <td>26</td>\n      <td>0.0</td>\n      <td>0.0</td>\n      <td>7.0</td>\n      <td>NaN</td>\n      <td>NaN</td>\n      <td>Successful</td>\n      <td>...</td>\n      <td>Away</td>\n      <td>NaN</td>\n      <td>NaN</td>\n      <td>Unknown</td>\n      <td>True</td>\n      <td>False</td>\n      <td>NaN</td>\n      <td>False</td>\n      <td>NaN</td>\n      <td>NaN</td>\n    </tr>\n    <tr>\n      <th>1893</th>\n      <td>1.0</td>\n      <td>0.0</td>\n      <td>0.0</td>\n      <td>52</td>\n      <td>0.0</td>\n      <td>0.0</td>\n      <td>0.0</td>\n      <td>NaN</td>\n      <td>NaN</td>\n      <td>Successful</td>\n      <td>...</td>\n      <td>Home</td>\n      <td>NaN</td>\n      <td>NaN</td>\n      <td>Unknown</td>\n      <td>True</td>\n      <td>False</td>\n      <td>NaN</td>\n      <td>False</td>\n      <td>NaN</td>\n      <td>NaN</td>\n    </tr>\n    <tr>\n      <th>1894</th>\n      <td>1.0</td>\n      <td>0.0</td>\n      <td>0.0</td>\n      <td>26</td>\n      <td>0.0</td>\n      <td>0.0</td>\n      <td>0.0</td>\n      <td>NaN</td>\n      <td>NaN</td>\n      <td>Successful</td>\n      <td>...</td>\n      <td>Away</td>\n      <td>NaN</td>\n      <td>NaN</td>\n      <td>Unknown</td>\n      <td>True</td>\n      <td>False</td>\n      <td>NaN</td>\n      <td>False</td>\n      <td>NaN</td>\n      <td>NaN</td>\n    </tr>\n  </tbody>\n</table>\n<p>1895 rows × 43 columns</p>\n</div>"
     },
     "execution_count": 4,
     "metadata": {},
     "output_type": "execute_result"
    }
   ],
   "source": [
    "data"
   ],
   "metadata": {
    "collapsed": false
   }
  },
  {
   "cell_type": "code",
   "execution_count": 5,
   "outputs": [],
   "source": [
    "# convert the column of lists to a string representation\n",
    "data['satisfiedEventsTypes'] = data['satisfiedEventsTypes'].apply(str)\n",
    "\n",
    "# save the dataframe to a table in the database\n",
    "data.to_sql(name='Matches', con=con , if_exists=\"append\")\n",
    "con.commit()\n",
    "con.close()\n"
   ],
   "metadata": {
    "collapsed": false
   }
  },
  {
   "cell_type": "code",
   "execution_count": 6,
   "outputs": [
    {
     "data": {
      "text/plain": "0       1694372\n1       1694372\n2       1694372\n3       1694372\n4       1694372\n         ...   \n1890    1694372\n1891    1694372\n1892    1694372\n1893    1694372\n1894    1694372\nName: match_id, Length: 1895, dtype: int64"
     },
     "execution_count": 6,
     "metadata": {},
     "output_type": "execute_result"
    }
   ],
   "source": [
    "data.match_id"
   ],
   "metadata": {
    "collapsed": false
   }
  },
  {
   "cell_type": "code",
   "execution_count": 9,
   "outputs": [],
   "source": [
    "con = sqlite3.connect(\"Database/opta_event_data22_23.db\")\n",
    "cur = con.cursor()\n"
   ],
   "metadata": {
    "collapsed": false
   }
  },
  {
   "cell_type": "code",
   "execution_count": 10,
   "outputs": [
    {
     "data": {
      "text/plain": "      level_0 Unnamed: 0  eventId  minute  second  teamId     x     y  \\\n0           0       None      2.0     0.0     0.0      26   0.0   0.0   \n1           1       None      2.0     0.0     0.0      52   0.0   0.0   \n2           2       None      3.0     0.0     0.0      26  50.0  50.0   \n3           3       None      3.5     0.0     1.5      26  30.6  41.0   \n4           4       None      4.0     0.0     3.0      26  34.9  36.0   \n...       ...        ...      ...     ...     ...     ...   ...   ...   \n1890     1890       None  11531.0    51.0     NaN      52  66.8  70.3   \n1891     1891       None    910.0     0.0     0.0      52   0.0   0.0   \n1892     1892       None    836.0     0.0     0.0      26   0.0   0.0   \n1893     1893       None      1.0     0.0     0.0      52   0.0   0.0   \n1894     1894       None      1.0     0.0     0.0      26   0.0   0.0   \n\n      expandedMinute  period  ... Venue   xThreat xThreat_gen  \\\n0                0.0     1.0  ...  Away       NaN         NaN   \n1                0.0     1.0  ...  Home       NaN         NaN   \n2                0.0     1.0  ...  Away -0.004436    0.000000   \n3                0.0     1.0  ...  None  0.000757    0.000757   \n4                0.0     1.0  ...  Away       NaN         NaN   \n...              ...     ...  ...   ...       ...         ...   \n1890            54.0     2.0  ...  Home       NaN         NaN   \n1891             7.0     NaN  ...  Home       NaN         NaN   \n1892             7.0     NaN  ...  Away       NaN         NaN   \n1893             0.0     NaN  ...  Home       NaN         NaN   \n1894             0.0     NaN  ...  Away       NaN         NaN   \n\n           playerName  is_open_play  is_progressive  is_pass_into_box  \\\n0             Unknown             1               0               NaN   \n1             Unknown             1               0               NaN   \n2       Mohamed Salah             1               0               NaN   \n3     Ibrahima Konaté             1               0               NaN   \n4     Ibrahima Konaté             1               0               NaN   \n...               ...           ...             ...               ...   \n1890  Vinícius Júnior             1               0               NaN   \n1891          Unknown             1               0               NaN   \n1892          Unknown             1               0               NaN   \n1893          Unknown             1               0               NaN   \n1894          Unknown             1               0               NaN   \n\n      won_possession  is_carry_into_box  progressive_carry  \n0                  0                NaN                NaN  \n1                  0                NaN                NaN  \n2                  0                NaN                NaN  \n3                  0                NaN                NaN  \n4                  0                NaN                NaN  \n...              ...                ...                ...  \n1890               0                NaN                NaN  \n1891               0                NaN                NaN  \n1892               0                NaN                NaN  \n1893               0                NaN                NaN  \n1894               0                NaN                NaN  \n\n[1895 rows x 45 columns]",
      "text/html": "<div>\n<style scoped>\n    .dataframe tbody tr th:only-of-type {\n        vertical-align: middle;\n    }\n\n    .dataframe tbody tr th {\n        vertical-align: top;\n    }\n\n    .dataframe thead th {\n        text-align: right;\n    }\n</style>\n<table border=\"1\" class=\"dataframe\">\n  <thead>\n    <tr style=\"text-align: right;\">\n      <th></th>\n      <th>level_0</th>\n      <th>Unnamed: 0</th>\n      <th>eventId</th>\n      <th>minute</th>\n      <th>second</th>\n      <th>teamId</th>\n      <th>x</th>\n      <th>y</th>\n      <th>expandedMinute</th>\n      <th>period</th>\n      <th>...</th>\n      <th>Venue</th>\n      <th>xThreat</th>\n      <th>xThreat_gen</th>\n      <th>playerName</th>\n      <th>is_open_play</th>\n      <th>is_progressive</th>\n      <th>is_pass_into_box</th>\n      <th>won_possession</th>\n      <th>is_carry_into_box</th>\n      <th>progressive_carry</th>\n    </tr>\n  </thead>\n  <tbody>\n    <tr>\n      <th>0</th>\n      <td>0</td>\n      <td>None</td>\n      <td>2.0</td>\n      <td>0.0</td>\n      <td>0.0</td>\n      <td>26</td>\n      <td>0.0</td>\n      <td>0.0</td>\n      <td>0.0</td>\n      <td>1.0</td>\n      <td>...</td>\n      <td>Away</td>\n      <td>NaN</td>\n      <td>NaN</td>\n      <td>Unknown</td>\n      <td>1</td>\n      <td>0</td>\n      <td>NaN</td>\n      <td>0</td>\n      <td>NaN</td>\n      <td>NaN</td>\n    </tr>\n    <tr>\n      <th>1</th>\n      <td>1</td>\n      <td>None</td>\n      <td>2.0</td>\n      <td>0.0</td>\n      <td>0.0</td>\n      <td>52</td>\n      <td>0.0</td>\n      <td>0.0</td>\n      <td>0.0</td>\n      <td>1.0</td>\n      <td>...</td>\n      <td>Home</td>\n      <td>NaN</td>\n      <td>NaN</td>\n      <td>Unknown</td>\n      <td>1</td>\n      <td>0</td>\n      <td>NaN</td>\n      <td>0</td>\n      <td>NaN</td>\n      <td>NaN</td>\n    </tr>\n    <tr>\n      <th>2</th>\n      <td>2</td>\n      <td>None</td>\n      <td>3.0</td>\n      <td>0.0</td>\n      <td>0.0</td>\n      <td>26</td>\n      <td>50.0</td>\n      <td>50.0</td>\n      <td>0.0</td>\n      <td>1.0</td>\n      <td>...</td>\n      <td>Away</td>\n      <td>-0.004436</td>\n      <td>0.000000</td>\n      <td>Mohamed Salah</td>\n      <td>1</td>\n      <td>0</td>\n      <td>NaN</td>\n      <td>0</td>\n      <td>NaN</td>\n      <td>NaN</td>\n    </tr>\n    <tr>\n      <th>3</th>\n      <td>3</td>\n      <td>None</td>\n      <td>3.5</td>\n      <td>0.0</td>\n      <td>1.5</td>\n      <td>26</td>\n      <td>30.6</td>\n      <td>41.0</td>\n      <td>0.0</td>\n      <td>1.0</td>\n      <td>...</td>\n      <td>None</td>\n      <td>0.000757</td>\n      <td>0.000757</td>\n      <td>Ibrahima Konaté</td>\n      <td>1</td>\n      <td>0</td>\n      <td>NaN</td>\n      <td>0</td>\n      <td>NaN</td>\n      <td>NaN</td>\n    </tr>\n    <tr>\n      <th>4</th>\n      <td>4</td>\n      <td>None</td>\n      <td>4.0</td>\n      <td>0.0</td>\n      <td>3.0</td>\n      <td>26</td>\n      <td>34.9</td>\n      <td>36.0</td>\n      <td>0.0</td>\n      <td>1.0</td>\n      <td>...</td>\n      <td>Away</td>\n      <td>NaN</td>\n      <td>NaN</td>\n      <td>Ibrahima Konaté</td>\n      <td>1</td>\n      <td>0</td>\n      <td>NaN</td>\n      <td>0</td>\n      <td>NaN</td>\n      <td>NaN</td>\n    </tr>\n    <tr>\n      <th>...</th>\n      <td>...</td>\n      <td>...</td>\n      <td>...</td>\n      <td>...</td>\n      <td>...</td>\n      <td>...</td>\n      <td>...</td>\n      <td>...</td>\n      <td>...</td>\n      <td>...</td>\n      <td>...</td>\n      <td>...</td>\n      <td>...</td>\n      <td>...</td>\n      <td>...</td>\n      <td>...</td>\n      <td>...</td>\n      <td>...</td>\n      <td>...</td>\n      <td>...</td>\n      <td>...</td>\n    </tr>\n    <tr>\n      <th>1890</th>\n      <td>1890</td>\n      <td>None</td>\n      <td>11531.0</td>\n      <td>51.0</td>\n      <td>NaN</td>\n      <td>52</td>\n      <td>66.8</td>\n      <td>70.3</td>\n      <td>54.0</td>\n      <td>2.0</td>\n      <td>...</td>\n      <td>Home</td>\n      <td>NaN</td>\n      <td>NaN</td>\n      <td>Vinícius Júnior</td>\n      <td>1</td>\n      <td>0</td>\n      <td>NaN</td>\n      <td>0</td>\n      <td>NaN</td>\n      <td>NaN</td>\n    </tr>\n    <tr>\n      <th>1891</th>\n      <td>1891</td>\n      <td>None</td>\n      <td>910.0</td>\n      <td>0.0</td>\n      <td>0.0</td>\n      <td>52</td>\n      <td>0.0</td>\n      <td>0.0</td>\n      <td>7.0</td>\n      <td>NaN</td>\n      <td>...</td>\n      <td>Home</td>\n      <td>NaN</td>\n      <td>NaN</td>\n      <td>Unknown</td>\n      <td>1</td>\n      <td>0</td>\n      <td>NaN</td>\n      <td>0</td>\n      <td>NaN</td>\n      <td>NaN</td>\n    </tr>\n    <tr>\n      <th>1892</th>\n      <td>1892</td>\n      <td>None</td>\n      <td>836.0</td>\n      <td>0.0</td>\n      <td>0.0</td>\n      <td>26</td>\n      <td>0.0</td>\n      <td>0.0</td>\n      <td>7.0</td>\n      <td>NaN</td>\n      <td>...</td>\n      <td>Away</td>\n      <td>NaN</td>\n      <td>NaN</td>\n      <td>Unknown</td>\n      <td>1</td>\n      <td>0</td>\n      <td>NaN</td>\n      <td>0</td>\n      <td>NaN</td>\n      <td>NaN</td>\n    </tr>\n    <tr>\n      <th>1893</th>\n      <td>1893</td>\n      <td>None</td>\n      <td>1.0</td>\n      <td>0.0</td>\n      <td>0.0</td>\n      <td>52</td>\n      <td>0.0</td>\n      <td>0.0</td>\n      <td>0.0</td>\n      <td>NaN</td>\n      <td>...</td>\n      <td>Home</td>\n      <td>NaN</td>\n      <td>NaN</td>\n      <td>Unknown</td>\n      <td>1</td>\n      <td>0</td>\n      <td>NaN</td>\n      <td>0</td>\n      <td>NaN</td>\n      <td>NaN</td>\n    </tr>\n    <tr>\n      <th>1894</th>\n      <td>1894</td>\n      <td>None</td>\n      <td>1.0</td>\n      <td>0.0</td>\n      <td>0.0</td>\n      <td>26</td>\n      <td>0.0</td>\n      <td>0.0</td>\n      <td>0.0</td>\n      <td>NaN</td>\n      <td>...</td>\n      <td>Away</td>\n      <td>NaN</td>\n      <td>NaN</td>\n      <td>Unknown</td>\n      <td>1</td>\n      <td>0</td>\n      <td>NaN</td>\n      <td>0</td>\n      <td>NaN</td>\n      <td>NaN</td>\n    </tr>\n  </tbody>\n</table>\n<p>1895 rows × 45 columns</p>\n</div>"
     },
     "execution_count": 10,
     "metadata": {},
     "output_type": "execute_result"
    }
   ],
   "source": [
    "pd.read_sql(\"Select * from Matches Where match_id = 1694372\", con)"
   ],
   "metadata": {
    "collapsed": false
   }
  },
  {
   "cell_type": "code",
   "execution_count": null,
   "outputs": [],
   "source": [],
   "metadata": {
    "collapsed": false
   }
  }
 ],
 "metadata": {
  "kernelspec": {
   "display_name": "Python 3",
   "language": "python",
   "name": "python3"
  },
  "language_info": {
   "codemirror_mode": {
    "name": "ipython",
    "version": 2
   },
   "file_extension": ".py",
   "mimetype": "text/x-python",
   "name": "python",
   "nbconvert_exporter": "python",
   "pygments_lexer": "ipython2",
   "version": "2.7.6"
  }
 },
 "nbformat": 4,
 "nbformat_minor": 0
}
