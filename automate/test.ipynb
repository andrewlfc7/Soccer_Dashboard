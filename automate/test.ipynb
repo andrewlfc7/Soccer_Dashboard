{
 "cells": [
  {
   "cell_type": "code",
   "execution_count": 3,
   "metadata": {
    "collapsed": true
   },
   "outputs": [],
   "source": [
    "import schedule\n",
    "import time\n"
   ]
  },
  {
   "cell_type": "code",
   "execution_count": null,
   "outputs": [],
   "source": [],
   "metadata": {
    "collapsed": false
   }
  },
  {
   "cell_type": "code",
   "execution_count": null,
   "outputs": [],
   "source": [],
   "metadata": {
    "collapsed": false
   }
  },
  {
   "cell_type": "code",
   "execution_count": null,
   "outputs": [],
   "source": [],
   "metadata": {
    "collapsed": false
   }
  },
  {
   "cell_type": "code",
   "execution_count": null,
   "outputs": [],
   "source": [],
   "metadata": {
    "collapsed": false
   }
  },
  {
   "cell_type": "code",
   "execution_count": 4,
   "outputs": [
    {
     "name": "stdout",
     "output_type": "stream",
     "text": [
      "Running task\n",
      "Running task\n",
      "Running task\n",
      "Running task\n",
      "Running task\n",
      "Running task\n",
      "Running task\n",
      "Running task\n",
      "Running task\n",
      "Running task\n",
      "Running task\n",
      "Running task\n",
      "Running task\n",
      "Running task\n",
      "Running task\n",
      "Running task\n",
      "Running task\n",
      "Running task\n",
      "Running task\n",
      "Running task\n",
      "Running task\n",
      "Running task\n",
      "Running task\n",
      "Running task\n",
      "Running task\n",
      "Running task\n",
      "Running task\n",
      "Running task\n",
      "Running task\n",
      "Running task\n",
      "Running task\n",
      "Running task\n",
      "Running task\n",
      "Running task\n",
      "Running task\n",
      "Running task\n",
      "Running task\n",
      "Running task\n",
      "Running task\n",
      "Running task\n",
      "Running task\n",
      "Running task\n",
      "Running task\n",
      "Running task\n",
      "Running task\n",
      "Running task\n",
      "Running task\n",
      "Running task\n",
      "Running task\n",
      "Running task\n",
      "Running task\n",
      "Running task\n",
      "Running task\n",
      "Running task\n",
      "Running task\n",
      "Running task\n",
      "Running task\n",
      "Running task\n",
      "Running task\n",
      "Running task\n",
      "Running task\n",
      "Running task\n",
      "Running task\n",
      "Running task\n",
      "Running task\n",
      "Running task\n",
      "Running task\n",
      "Running task\n",
      "Running task\n",
      "Running task\n",
      "Running task\n",
      "Running task\n",
      "Running task\n",
      "Running task\n",
      "Running task\n",
      "Running task\n",
      "Running task\n",
      "Running task\n",
      "Running task\n"
     ]
    },
    {
     "ename": "KeyboardInterrupt",
     "evalue": "",
     "output_type": "error",
     "traceback": [
      "\u001B[0;31m---------------------------------------------------------------------------\u001B[0m",
      "\u001B[0;31mKeyboardInterrupt\u001B[0m                         Traceback (most recent call last)",
      "Cell \u001B[0;32mIn [4], line 10\u001B[0m\n\u001B[1;32m      8\u001B[0m \u001B[38;5;28;01mwhile\u001B[39;00m \u001B[38;5;28;01mTrue\u001B[39;00m:\n\u001B[1;32m      9\u001B[0m     schedule\u001B[38;5;241m.\u001B[39mrun_pending()\n\u001B[0;32m---> 10\u001B[0m     \u001B[43mtime\u001B[49m\u001B[38;5;241;43m.\u001B[39;49m\u001B[43msleep\u001B[49m\u001B[43m(\u001B[49m\u001B[38;5;241;43m1\u001B[39;49m\u001B[43m)\u001B[49m\n",
      "\u001B[0;31mKeyboardInterrupt\u001B[0m: "
     ]
    }
   ],
   "source": [
    "# Example: Using the schedule module to run a task every minute\n",
    "\n",
    "def task():\n",
    "    print(\"Running task\")\n",
    "\n",
    "schedule.every(1).minutes.do(task)\n",
    "\n",
    "while True:\n",
    "    schedule.run_pending()\n",
    "    time.sleep(1)\n"
   ],
   "metadata": {
    "collapsed": false
   }
  },
  {
   "cell_type": "code",
   "execution_count": null,
   "outputs": [],
   "source": [],
   "metadata": {
    "collapsed": false
   }
  }
 ],
 "metadata": {
  "kernelspec": {
   "display_name": "Python 3",
   "language": "python",
   "name": "python3"
  },
  "language_info": {
   "codemirror_mode": {
    "name": "ipython",
    "version": 2
   },
   "file_extension": ".py",
   "mimetype": "text/x-python",
   "name": "python",
   "nbconvert_exporter": "python",
   "pygments_lexer": "ipython2",
   "version": "2.7.6"
  }
 },
 "nbformat": 4,
 "nbformat_minor": 0
}
